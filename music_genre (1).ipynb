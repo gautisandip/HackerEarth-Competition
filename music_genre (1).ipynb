{
 "cells": [
  {
   "cell_type": "code",
   "execution_count": 1,
   "metadata": {
    "id": "nYTLnwxbu9cF"
   },
   "outputs": [],
   "source": [
    "# Import inmportant library\n",
    "import pandas as pd\n",
    "import numpy as np\n",
    "import matplotlib.pyplot as plt\n",
    "import seaborn as sns\n",
    "from sklearn.linear_model import LogisticRegression\n",
    "from sklearn.ensemble import RandomForestClassifier\n",
    "import xgboost as xgb\n",
    "from sklearn.metrics import accuracy_score, confusion_matrix, classification_report\n",
    "from sklearn.model_selection import train_test_split"
   ]
  },
  {
   "cell_type": "code",
   "execution_count": 2,
   "metadata": {
    "id": "gRBNQ-F0vuf2"
   },
   "outputs": [],
   "source": [
    "# Load train and test data\n",
    "train = pd.read_csv('/content/train.csv')\n",
    "test = pd.read_csv('/content/test.csv')"
   ]
  },
  {
   "cell_type": "code",
   "execution_count": 3,
   "metadata": {
    "colab": {
     "base_uri": "https://localhost:8080/",
     "height": 365
    },
    "id": "0CZBf1a9wIWj",
    "outputId": "039a3f05-f7a9-4a40-959c-659d6206c286"
   },
   "outputs": [
    {
     "data": {
      "text/html": [
       "<div>\n",
       "<style scoped>\n",
       "    .dataframe tbody tr th:only-of-type {\n",
       "        vertical-align: middle;\n",
       "    }\n",
       "\n",
       "    .dataframe tbody tr th {\n",
       "        vertical-align: top;\n",
       "    }\n",
       "\n",
       "    .dataframe thead th {\n",
       "        text-align: right;\n",
       "    }\n",
       "</style>\n",
       "<table border=\"1\" class=\"dataframe\">\n",
       "  <thead>\n",
       "    <tr style=\"text-align: right;\">\n",
       "      <th></th>\n",
       "      <th>instance_id</th>\n",
       "      <th>track_name</th>\n",
       "      <th>popularity</th>\n",
       "      <th>acousticness</th>\n",
       "      <th>danceability</th>\n",
       "      <th>duration_ms</th>\n",
       "      <th>energy</th>\n",
       "      <th>instrumentalness</th>\n",
       "      <th>key</th>\n",
       "      <th>liveness</th>\n",
       "      <th>loudness</th>\n",
       "      <th>voice_gender</th>\n",
       "      <th>mode</th>\n",
       "      <th>speechiness</th>\n",
       "      <th>tempo</th>\n",
       "      <th>musician_category</th>\n",
       "      <th>valence</th>\n",
       "      <th>music_genre</th>\n",
       "    </tr>\n",
       "  </thead>\n",
       "  <tbody>\n",
       "    <tr>\n",
       "      <th>0</th>\n",
       "      <td>MSC_83537.0</td>\n",
       "      <td>Estrellitas y Duendes</td>\n",
       "      <td>49.178</td>\n",
       "      <td>0.970522</td>\n",
       "      <td>0.580508</td>\n",
       "      <td>214625.776</td>\n",
       "      <td>0.192107</td>\n",
       "      <td>0.000000</td>\n",
       "      <td>Scale E</td>\n",
       "      <td>0.147134</td>\n",
       "      <td>-14.140</td>\n",
       "      <td>NaN</td>\n",
       "      <td>Major</td>\n",
       "      <td>0.046404</td>\n",
       "      <td>143.78799999999998</td>\n",
       "      <td>Band</td>\n",
       "      <td>0.598965</td>\n",
       "      <td>Jazz</td>\n",
       "    </tr>\n",
       "    <tr>\n",
       "      <th>1</th>\n",
       "      <td>MSC_22044.0</td>\n",
       "      <td>Al Norte</td>\n",
       "      <td>59.827</td>\n",
       "      <td>1.009380</td>\n",
       "      <td>0.687542</td>\n",
       "      <td>216232.195</td>\n",
       "      <td>0.265942</td>\n",
       "      <td>0.000031</td>\n",
       "      <td>Scale A</td>\n",
       "      <td>0.174655</td>\n",
       "      <td>-13.716</td>\n",
       "      <td>Male</td>\n",
       "      <td>?</td>\n",
       "      <td>0.039949</td>\n",
       "      <td>?</td>\n",
       "      <td>Band</td>\n",
       "      <td>0.357194</td>\n",
       "      <td>Jazz</td>\n",
       "    </tr>\n",
       "    <tr>\n",
       "      <th>2</th>\n",
       "      <td>MSC_62017.0</td>\n",
       "      <td>Yeah! (feat. Lil Jon &amp; Ludacris)</td>\n",
       "      <td>89.023</td>\n",
       "      <td>0.020041</td>\n",
       "      <td>0.967948</td>\n",
       "      <td>273314.723</td>\n",
       "      <td>0.857411</td>\n",
       "      <td>0.000000</td>\n",
       "      <td>Scale D</td>\n",
       "      <td>0.042030</td>\n",
       "      <td>-4.995</td>\n",
       "      <td>Female</td>\n",
       "      <td>Major</td>\n",
       "      <td>0.119917</td>\n",
       "      <td>105.01799999999999</td>\n",
       "      <td>Band</td>\n",
       "      <td>0.635525</td>\n",
       "      <td>Rap</td>\n",
       "    </tr>\n",
       "    <tr>\n",
       "      <th>3</th>\n",
       "      <td>MSC_76365.0</td>\n",
       "      <td>Can’t You See</td>\n",
       "      <td>55.762</td>\n",
       "      <td>0.010284</td>\n",
       "      <td>0.616287</td>\n",
       "      <td>189189.605</td>\n",
       "      <td>0.970513</td>\n",
       "      <td>0.000220</td>\n",
       "      <td>Scale D</td>\n",
       "      <td>0.124637</td>\n",
       "      <td>-4.262</td>\n",
       "      <td>Both</td>\n",
       "      <td>Major</td>\n",
       "      <td>0.167493</td>\n",
       "      <td>?</td>\n",
       "      <td>Duet</td>\n",
       "      <td>0.983750</td>\n",
       "      <td>Rock</td>\n",
       "    </tr>\n",
       "    <tr>\n",
       "      <th>4</th>\n",
       "      <td>MSC_71493.0</td>\n",
       "      <td>Sonata III (G Moll), BWV 1029: Adagio</td>\n",
       "      <td>45.095</td>\n",
       "      <td>0.858769</td>\n",
       "      <td>0.280645</td>\n",
       "      <td>410136.987</td>\n",
       "      <td>0.114732</td>\n",
       "      <td>0.002753</td>\n",
       "      <td>Scale F Sharp</td>\n",
       "      <td>0.134782</td>\n",
       "      <td>-26.922</td>\n",
       "      <td>Female</td>\n",
       "      <td>Minor</td>\n",
       "      <td>0.039139</td>\n",
       "      <td>112.18299999999999</td>\n",
       "      <td>Band</td>\n",
       "      <td>0.074412</td>\n",
       "      <td>Classical</td>\n",
       "    </tr>\n",
       "  </tbody>\n",
       "</table>\n",
       "</div>"
      ],
      "text/plain": [
       "   instance_id                             track_name  ...   valence  music_genre\n",
       "0  MSC_83537.0                  Estrellitas y Duendes  ...  0.598965         Jazz\n",
       "1  MSC_22044.0                               Al Norte  ...  0.357194         Jazz\n",
       "2  MSC_62017.0       Yeah! (feat. Lil Jon & Ludacris)  ...  0.635525          Rap\n",
       "3  MSC_76365.0                          Can’t You See  ...  0.983750         Rock\n",
       "4  MSC_71493.0  Sonata III (G Moll), BWV 1029: Adagio  ...  0.074412    Classical\n",
       "\n",
       "[5 rows x 18 columns]"
      ]
     },
     "execution_count": 3,
     "metadata": {},
     "output_type": "execute_result"
    }
   ],
   "source": [
    "# read the top five rows of train data\n",
    "train.head()"
   ]
  },
  {
   "cell_type": "code",
   "execution_count": 4,
   "metadata": {
    "colab": {
     "base_uri": "https://localhost:8080/"
    },
    "id": "-mJ1-rnAwsgn",
    "outputId": "f7dfeadf-a937-447c-a948-aa5dad513572"
   },
   "outputs": [
    {
     "name": "stdout",
     "output_type": "stream",
     "text": [
      "(15681, 18)\n",
      "(3921, 17)\n"
     ]
    }
   ],
   "source": [
    "# checking the shape od data \n",
    "print(train.shape)\n",
    "print(test.shape)"
   ]
  },
  {
   "cell_type": "code",
   "execution_count": 5,
   "metadata": {
    "colab": {
     "base_uri": "https://localhost:8080/",
     "height": 300
    },
    "id": "dTi1_H77w7Vd",
    "outputId": "28afbe61-fd54-4b5f-e20a-5563f05ff5b8"
   },
   "outputs": [
    {
     "data": {
      "text/html": [
       "<div>\n",
       "<style scoped>\n",
       "    .dataframe tbody tr th:only-of-type {\n",
       "        vertical-align: middle;\n",
       "    }\n",
       "\n",
       "    .dataframe tbody tr th {\n",
       "        vertical-align: top;\n",
       "    }\n",
       "\n",
       "    .dataframe thead th {\n",
       "        text-align: right;\n",
       "    }\n",
       "</style>\n",
       "<table border=\"1\" class=\"dataframe\">\n",
       "  <thead>\n",
       "    <tr style=\"text-align: right;\">\n",
       "      <th></th>\n",
       "      <th>popularity</th>\n",
       "      <th>acousticness</th>\n",
       "      <th>danceability</th>\n",
       "      <th>duration_ms</th>\n",
       "      <th>energy</th>\n",
       "      <th>instrumentalness</th>\n",
       "      <th>liveness</th>\n",
       "      <th>loudness</th>\n",
       "      <th>speechiness</th>\n",
       "      <th>valence</th>\n",
       "    </tr>\n",
       "  </thead>\n",
       "  <tbody>\n",
       "    <tr>\n",
       "      <th>count</th>\n",
       "      <td>15039.000000</td>\n",
       "      <td>15681.000000</td>\n",
       "      <td>15125.000000</td>\n",
       "      <td>1.558700e+04</td>\n",
       "      <td>15587.000000</td>\n",
       "      <td>15586.000000</td>\n",
       "      <td>15681.000000</td>\n",
       "      <td>15645.000000</td>\n",
       "      <td>15655.000000</td>\n",
       "      <td>15004.000000</td>\n",
       "    </tr>\n",
       "    <tr>\n",
       "      <th>mean</th>\n",
       "      <td>50.822720</td>\n",
       "      <td>0.446922</td>\n",
       "      <td>0.570106</td>\n",
       "      <td>2.480008e+05</td>\n",
       "      <td>0.426977</td>\n",
       "      <td>0.264290</td>\n",
       "      <td>0.194089</td>\n",
       "      <td>-11.621471</td>\n",
       "      <td>0.096411</td>\n",
       "      <td>0.451400</td>\n",
       "    </tr>\n",
       "    <tr>\n",
       "      <th>std</th>\n",
       "      <td>17.679789</td>\n",
       "      <td>0.416981</td>\n",
       "      <td>0.215045</td>\n",
       "      <td>1.568312e+05</td>\n",
       "      <td>0.514145</td>\n",
       "      <td>0.395788</td>\n",
       "      <td>0.160291</td>\n",
       "      <td>8.663364</td>\n",
       "      <td>0.105647</td>\n",
       "      <td>0.277220</td>\n",
       "    </tr>\n",
       "    <tr>\n",
       "      <th>min</th>\n",
       "      <td>0.000000</td>\n",
       "      <td>0.000002</td>\n",
       "      <td>0.063962</td>\n",
       "      <td>-1.000000e+00</td>\n",
       "      <td>-1.000000</td>\n",
       "      <td>0.000000</td>\n",
       "      <td>0.016652</td>\n",
       "      <td>-50.054000</td>\n",
       "      <td>0.023858</td>\n",
       "      <td>0.000000</td>\n",
       "    </tr>\n",
       "    <tr>\n",
       "      <th>25%</th>\n",
       "      <td>39.017000</td>\n",
       "      <td>0.044521</td>\n",
       "      <td>0.418635</td>\n",
       "      <td>1.860163e+05</td>\n",
       "      <td>0.158277</td>\n",
       "      <td>0.000000</td>\n",
       "      <td>0.101674</td>\n",
       "      <td>-15.504000</td>\n",
       "      <td>0.039549</td>\n",
       "      <td>0.212242</td>\n",
       "    </tr>\n",
       "    <tr>\n",
       "      <th>50%</th>\n",
       "      <td>54.109000</td>\n",
       "      <td>0.295272</td>\n",
       "      <td>0.586114</td>\n",
       "      <td>2.362127e+05</td>\n",
       "      <td>0.560389</td>\n",
       "      <td>0.000719</td>\n",
       "      <td>0.128784</td>\n",
       "      <td>-8.611000</td>\n",
       "      <td>0.050425</td>\n",
       "      <td>0.432478</td>\n",
       "    </tr>\n",
       "    <tr>\n",
       "      <th>75%</th>\n",
       "      <td>63.449000</td>\n",
       "      <td>0.929001</td>\n",
       "      <td>0.733073</td>\n",
       "      <td>2.975593e+05</td>\n",
       "      <td>0.791881</td>\n",
       "      <td>0.638930</td>\n",
       "      <td>0.228973</td>\n",
       "      <td>-5.715000</td>\n",
       "      <td>0.094230</td>\n",
       "      <td>0.665369</td>\n",
       "    </tr>\n",
       "    <tr>\n",
       "      <th>max</th>\n",
       "      <td>108.512000</td>\n",
       "      <td>1.094410</td>\n",
       "      <td>1.072089</td>\n",
       "      <td>3.410383e+06</td>\n",
       "      <td>1.094853</td>\n",
       "      <td>1.078601</td>\n",
       "      <td>1.080959</td>\n",
       "      <td>1.389000</td>\n",
       "      <td>1.000445</td>\n",
       "      <td>1.076971</td>\n",
       "    </tr>\n",
       "  </tbody>\n",
       "</table>\n",
       "</div>"
      ],
      "text/plain": [
       "         popularity  acousticness  ...   speechiness       valence\n",
       "count  15039.000000  15681.000000  ...  15655.000000  15004.000000\n",
       "mean      50.822720      0.446922  ...      0.096411      0.451400\n",
       "std       17.679789      0.416981  ...      0.105647      0.277220\n",
       "min        0.000000      0.000002  ...      0.023858      0.000000\n",
       "25%       39.017000      0.044521  ...      0.039549      0.212242\n",
       "50%       54.109000      0.295272  ...      0.050425      0.432478\n",
       "75%       63.449000      0.929001  ...      0.094230      0.665369\n",
       "max      108.512000      1.094410  ...      1.000445      1.076971\n",
       "\n",
       "[8 rows x 10 columns]"
      ]
     },
     "execution_count": 5,
     "metadata": {},
     "output_type": "execute_result"
    }
   ],
   "source": [
    "# data info\n",
    "train.describe()"
   ]
  },
  {
   "cell_type": "code",
   "execution_count": 6,
   "metadata": {
    "colab": {
     "base_uri": "https://localhost:8080/"
    },
    "id": "XoH7fRIIxX0U",
    "outputId": "af602405-99db-42ce-a8a2-c4ef61a3c259"
   },
   "outputs": [
    {
     "data": {
      "text/plain": [
       "instance_id          15681\n",
       "track_name           14799\n",
       "popularity           12743\n",
       "acousticness         15681\n",
       "danceability         15125\n",
       "duration_ms          14011\n",
       "energy               14371\n",
       "instrumentalness     11219\n",
       "key                     12\n",
       "liveness             15681\n",
       "loudness             10473\n",
       "voice_gender             3\n",
       "mode                     3\n",
       "speechiness          15655\n",
       "tempo                12332\n",
       "musician_category        3\n",
       "valence              15004\n",
       "music_genre              7\n",
       "dtype: int64"
      ]
     },
     "execution_count": 6,
     "metadata": {},
     "output_type": "execute_result"
    }
   ],
   "source": [
    "# Checking unique values in train data\n",
    "train.nunique()"
   ]
  },
  {
   "cell_type": "code",
   "execution_count": 7,
   "metadata": {
    "colab": {
     "base_uri": "https://localhost:8080/"
    },
    "id": "1bdzb2tfxnU1",
    "outputId": "1d89343d-3e44-4aa9-82bb-30d729c5addd"
   },
   "outputs": [
    {
     "data": {
      "text/plain": [
       "instance_id          3921\n",
       "track_name           3850\n",
       "popularity           3504\n",
       "acousticness         3921\n",
       "danceability         3782\n",
       "duration_ms          3526\n",
       "energy               3591\n",
       "instrumentalness     2855\n",
       "key                    12\n",
       "liveness             3921\n",
       "loudness             3296\n",
       "voice_gender            3\n",
       "mode                    3\n",
       "speechiness          3914\n",
       "tempo                3401\n",
       "musician_category       3\n",
       "valence              3730\n",
       "dtype: int64"
      ]
     },
     "execution_count": 7,
     "metadata": {},
     "output_type": "execute_result"
    }
   ],
   "source": [
    "# Checking unique values in test data\n",
    "test.nunique()"
   ]
  },
  {
   "cell_type": "code",
   "execution_count": 8,
   "metadata": {
    "colab": {
     "base_uri": "https://localhost:8080/"
    },
    "id": "UmDCDrOLy0Nw",
    "outputId": "ee2165ac-933a-41b6-af0f-4e402cabc1e8"
   },
   "outputs": [
    {
     "data": {
      "text/plain": [
       "instance_id          0.000000\n",
       "track_name           0.000000\n",
       "popularity           4.094127\n",
       "acousticness         0.000000\n",
       "danceability         3.545692\n",
       "duration_ms          0.599452\n",
       "energy               0.599452\n",
       "instrumentalness     0.605829\n",
       "key                  0.000000\n",
       "liveness             0.000000\n",
       "loudness             0.229577\n",
       "voice_gender         4.878515\n",
       "mode                 0.223200\n",
       "speechiness          0.165806\n",
       "tempo                0.000000\n",
       "musician_category    8.672916\n",
       "valence              4.317327\n",
       "music_genre          0.000000\n",
       "dtype: float64"
      ]
     },
     "execution_count": 8,
     "metadata": {},
     "output_type": "execute_result"
    }
   ],
   "source": [
    "# Checking the missing values in train data\n",
    "train.isnull().sum()/len(train)*100"
   ]
  },
  {
   "cell_type": "code",
   "execution_count": 9,
   "metadata": {
    "colab": {
     "base_uri": "https://localhost:8080/"
    },
    "id": "7NQw7uhi2Rl_",
    "outputId": "520d2d3e-14f1-4fb4-d81c-6787e6aad474"
   },
   "outputs": [
    {
     "data": {
      "text/plain": [
       "instance_id          0.000000\n",
       "track_name           0.000000\n",
       "popularity           4.233614\n",
       "acousticness         0.000000\n",
       "danceability         3.545014\n",
       "duration_ms          0.535578\n",
       "energy               0.841622\n",
       "instrumentalness     0.586585\n",
       "key                  0.000000\n",
       "liveness             0.000000\n",
       "loudness             0.076511\n",
       "voice_gender         4.743688\n",
       "mode                 0.357052\n",
       "speechiness          0.178526\n",
       "tempo                0.000000\n",
       "musician_category    7.957154\n",
       "valence              4.871206\n",
       "dtype: float64"
      ]
     },
     "execution_count": 9,
     "metadata": {},
     "output_type": "execute_result"
    }
   ],
   "source": [
    "# Checking the missing values in test data\n",
    "test.isnull().sum()/len(test)*100"
   ]
  },
  {
   "cell_type": "code",
   "execution_count": 4,
   "metadata": {
    "id": "iBxuW4a8f8hM"
   },
   "outputs": [],
   "source": [
    "# Replace special charcater with mode in train data\n",
    "train['mode'].replace({\"?\": \"Major\"}, inplace=True)\n",
    "train['tempo'].replace({\"?\": \"0\"}, inplace=True)"
   ]
  },
  {
   "cell_type": "code",
   "execution_count": 5,
   "metadata": {
    "id": "vo8sMBy-f9f3"
   },
   "outputs": [],
   "source": [
    "# Replace special charcater with mode in test data\n",
    "test['tempo'].replace({\"?\": \"0\"}, inplace=True)\n",
    "test['mode'].replace({\"?\": \"Major\"}, inplace=True)"
   ]
  },
  {
   "cell_type": "code",
   "execution_count": 6,
   "metadata": {
    "id": "cl_24S_2hO8N"
   },
   "outputs": [],
   "source": [
    "# change the data types\n",
    "train[\"tempo\"] = pd.to_numeric(train[\"tempo\"])"
   ]
  },
  {
   "cell_type": "code",
   "execution_count": 8,
   "metadata": {
    "id": "gUfJHl6Mlxf7"
   },
   "outputs": [],
   "source": [
    "# change the data types\n",
    "test[\"tempo\"] = pd.to_numeric(test[\"tempo\"])"
   ]
  },
  {
   "cell_type": "code",
   "execution_count": 15,
   "metadata": {
    "colab": {
     "base_uri": "https://localhost:8080/"
    },
    "id": "4HRIKrlDjzBF",
    "outputId": "925f6cc5-3bda-44fc-bae3-d4a0fe1bb21f"
   },
   "outputs": [
    {
     "data": {
      "text/plain": [
       "Index(['instance_id', 'track_name', 'popularity', 'acousticness',\n",
       "       'danceability', 'duration_ms', 'energy', 'instrumentalness', 'key',\n",
       "       'liveness', 'loudness', 'voice_gender', 'mode', 'speechiness', 'tempo',\n",
       "       'musician_category', 'valence', 'music_genre'],\n",
       "      dtype='object')"
      ]
     },
     "execution_count": 15,
     "metadata": {},
     "output_type": "execute_result"
    }
   ],
   "source": [
    "train.columns"
   ]
  },
  {
   "cell_type": "code",
   "execution_count": 9,
   "metadata": {
    "id": "bQtNiEhpgoga"
   },
   "outputs": [],
   "source": [
    "from scipy.stats import mode"
   ]
  },
  {
   "cell_type": "code",
   "execution_count": 10,
   "metadata": {
    "id": "ZLeCesvQgiue"
   },
   "outputs": [],
   "source": [
    "# Repalcing missing values in train and test data\n",
    "train['popularity'].fillna((train['popularity'].mean()),inplace = True)\n",
    "train['danceability'].fillna((train['danceability'].mean()),inplace = True)\n",
    "train['duration_ms'].fillna((train['duration_ms'].mean()),inplace = True)\n",
    "train['energy'].fillna((train['energy'].mean()),inplace = True)\n",
    "train['instrumentalness'].fillna((train['instrumentalness'].mean()),inplace = True)\n",
    "train['loudness'].fillna((train['loudness'].mean()),inplace = True)\n",
    "train['speechiness'].fillna((train['speechiness'].mean()),inplace = True)\n",
    "train['valence'].fillna((train['speechiness'].mean()),inplace = True)\n",
    "train['voice_gender'].fillna(mode(train['voice_gender']).mode[0], inplace=True)\n",
    "train['musician_category'].fillna(mode(train['musician_category']).mode[0], inplace=True)\n",
    "train['mode'].fillna(mode(train['mode']).mode[0], inplace=True)\n",
    "\n",
    "####################################################################################################\n",
    "\n",
    "test['popularity'].fillna((test['popularity'].mean()),inplace = True)\n",
    "test['danceability'].fillna((test['danceability'].mean()),inplace = True)\n",
    "test['duration_ms'].fillna((test['duration_ms'].mean()),inplace = True)\n",
    "test['energy'].fillna((test['energy'].mean()),inplace = True)\n",
    "test['instrumentalness'].fillna((test['instrumentalness'].mean()),inplace = True)\n",
    "test['loudness'].fillna((test['loudness'].mean()),inplace = True)\n",
    "test['speechiness'].fillna((test['speechiness'].mean()),inplace = True)\n",
    "test['valence'].fillna((test['speechiness'].mean()),inplace = True)\n",
    "test['voice_gender'].fillna(mode(test['voice_gender']).mode[0], inplace=True)\n",
    "test['musician_category'].fillna(mode(test['musician_category']).mode[0], inplace=True)\n",
    "test['mode'].fillna(mode(test['mode']).mode[0], inplace=True)"
   ]
  },
  {
   "cell_type": "code",
   "execution_count": 11,
   "metadata": {
    "colab": {
     "base_uri": "https://localhost:8080/"
    },
    "id": "wAmYdeZwlAct",
    "outputId": "1895b854-679a-4c95-ec70-84260a7ad32f"
   },
   "outputs": [
    {
     "data": {
      "text/plain": [
       "(instance_id          0\n",
       " track_name           0\n",
       " popularity           0\n",
       " acousticness         0\n",
       " danceability         0\n",
       " duration_ms          0\n",
       " energy               0\n",
       " instrumentalness     0\n",
       " key                  0\n",
       " liveness             0\n",
       " loudness             0\n",
       " voice_gender         0\n",
       " mode                 0\n",
       " speechiness          0\n",
       " tempo                0\n",
       " musician_category    0\n",
       " valence              0\n",
       " music_genre          0\n",
       " dtype: int64, instance_id          0\n",
       " track_name           0\n",
       " popularity           0\n",
       " acousticness         0\n",
       " danceability         0\n",
       " duration_ms          0\n",
       " energy               0\n",
       " instrumentalness     0\n",
       " key                  0\n",
       " liveness             0\n",
       " loudness             0\n",
       " voice_gender         0\n",
       " mode                 0\n",
       " speechiness          0\n",
       " tempo                0\n",
       " musician_category    0\n",
       " valence              0\n",
       " dtype: int64)"
      ]
     },
     "execution_count": 11,
     "metadata": {},
     "output_type": "execute_result"
    }
   ],
   "source": [
    "# Again check muissing values\n",
    "train.isnull().sum(),test.isnull().sum()"
   ]
  },
  {
   "cell_type": "code",
   "execution_count": 19,
   "metadata": {
    "colab": {
     "base_uri": "https://localhost:8080/"
    },
    "id": "NKeNsxjj3pNG",
    "outputId": "ba9c08c9-dea5-44e3-d625-443ca1e47375"
   },
   "outputs": [
    {
     "data": {
      "text/plain": [
       "Classical     3990\n",
       "Rock          3879\n",
       "Rap           3207\n",
       "Jazz          2850\n",
       "Country        683\n",
       "Electronic     614\n",
       "Hip-Hop        458\n",
       "Name: music_genre, dtype: int64"
      ]
     },
     "execution_count": 19,
     "metadata": {},
     "output_type": "execute_result"
    }
   ],
   "source": [
    "#  counts of genre \n",
    "train['music_genre'].value_counts()"
   ]
  },
  {
   "cell_type": "code",
   "execution_count": 20,
   "metadata": {
    "colab": {
     "base_uri": "https://localhost:8080/"
    },
    "id": "0gGG7X_m7olx",
    "outputId": "be24b7b4-1af5-4c72-9964-5fc46a0da39d"
   },
   "outputs": [
    {
     "name": "stdout",
     "output_type": "stream",
     "text": [
      "<class 'pandas.core.frame.DataFrame'>\n",
      "RangeIndex: 15681 entries, 0 to 15680\n",
      "Data columns (total 18 columns):\n",
      " #   Column             Non-Null Count  Dtype  \n",
      "---  ------             --------------  -----  \n",
      " 0   instance_id        15681 non-null  object \n",
      " 1   track_name         15681 non-null  object \n",
      " 2   popularity         15681 non-null  float64\n",
      " 3   acousticness       15681 non-null  float64\n",
      " 4   danceability       15681 non-null  float64\n",
      " 5   duration_ms        15681 non-null  float64\n",
      " 6   energy             15681 non-null  float64\n",
      " 7   instrumentalness   15681 non-null  float64\n",
      " 8   key                15681 non-null  object \n",
      " 9   liveness           15681 non-null  float64\n",
      " 10  loudness           15681 non-null  float64\n",
      " 11  voice_gender       15681 non-null  object \n",
      " 12  mode               15681 non-null  object \n",
      " 13  speechiness        15681 non-null  float64\n",
      " 14  tempo              15681 non-null  float64\n",
      " 15  musician_category  15681 non-null  object \n",
      " 16  valence            15681 non-null  float64\n",
      " 17  music_genre        15681 non-null  object \n",
      "dtypes: float64(11), object(7)\n",
      "memory usage: 2.2+ MB\n"
     ]
    }
   ],
   "source": [
    "train.info()"
   ]
  },
  {
   "cell_type": "code",
   "execution_count": 12,
   "metadata": {
    "id": "f79Lfch0GbiK"
   },
   "outputs": [],
   "source": [
    "# remove the instance_id from train data\n",
    "train1 = train.drop(columns = ['instance_id'], axis = 1)"
   ]
  },
  {
   "cell_type": "code",
   "execution_count": 13,
   "metadata": {
    "id": "4Bebhh2Vldfh"
   },
   "outputs": [],
   "source": [
    "# remove the instance_id from train data\n",
    "test1 = test.drop(columns = ['instance_id'], axis = 1)"
   ]
  },
  {
   "cell_type": "code",
   "execution_count": 14,
   "metadata": {
    "id": "5fCyqoJUmAjo"
   },
   "outputs": [],
   "source": [
    "# change the data types\n",
    "test1[\"tempo\"] = pd.to_numeric(test1[\"tempo\"])"
   ]
  },
  {
   "cell_type": "code",
   "execution_count": 15,
   "metadata": {
    "colab": {
     "base_uri": "https://localhost:8080/"
    },
    "id": "eYrLOwvJGtXJ",
    "outputId": "33b8cc2d-bc1a-4ac7-ce9c-c348e568f5a6"
   },
   "outputs": [
    {
     "name": "stdout",
     "output_type": "stream",
     "text": [
      "<class 'pandas.core.frame.DataFrame'>\n",
      "RangeIndex: 3921 entries, 0 to 3920\n",
      "Data columns (total 16 columns):\n",
      " #   Column             Non-Null Count  Dtype  \n",
      "---  ------             --------------  -----  \n",
      " 0   track_name         3921 non-null   object \n",
      " 1   popularity         3921 non-null   float64\n",
      " 2   acousticness       3921 non-null   float64\n",
      " 3   danceability       3921 non-null   float64\n",
      " 4   duration_ms        3921 non-null   float64\n",
      " 5   energy             3921 non-null   float64\n",
      " 6   instrumentalness   3921 non-null   float64\n",
      " 7   key                3921 non-null   object \n",
      " 8   liveness           3921 non-null   float64\n",
      " 9   loudness           3921 non-null   float64\n",
      " 10  voice_gender       3921 non-null   object \n",
      " 11  mode               3921 non-null   object \n",
      " 12  speechiness        3921 non-null   float64\n",
      " 13  tempo              3921 non-null   float64\n",
      " 14  musician_category  3921 non-null   object \n",
      " 15  valence            3921 non-null   float64\n",
      "dtypes: float64(11), object(5)\n",
      "memory usage: 490.2+ KB\n"
     ]
    }
   ],
   "source": [
    "test1.info()"
   ]
  },
  {
   "cell_type": "code",
   "execution_count": 16,
   "metadata": {
    "id": "1KhA4jGYEbG0"
   },
   "outputs": [],
   "source": [
    "# One hot encoding\n",
    "from sklearn.preprocessing import LabelEncoder\n",
    "enc=LabelEncoder()"
   ]
  },
  {
   "cell_type": "code",
   "execution_count": 17,
   "metadata": {
    "id": "UAylTxcuG6wR"
   },
   "outputs": [],
   "source": [
    "track_name=enc.fit_transform(train1['track_name'])\n",
    "key=enc.fit_transform(train1['key'])\n",
    "voice_gender = enc.fit_transform(train1['voice_gender'])\n",
    "mode = enc.fit_transform(train1['mode'])\n",
    "musician_category = enc.fit_transform(train1['musician_category'])\n",
    "#music_genre = enc.fit_transform(train1['music_genre'])"
   ]
  },
  {
   "cell_type": "code",
   "execution_count": 18,
   "metadata": {
    "id": "BpSLpJVKJ_Zn"
   },
   "outputs": [],
   "source": [
    "train1['track_name'] = track_name\n",
    "train1['key'] = key\n",
    "train1['voice_gender'] = voice_gender\n",
    "train1['mode'] = mode\n",
    "train1['musician_category'] = musician_category\n",
    "#train1['music_genre'] = music_genre"
   ]
  },
  {
   "cell_type": "code",
   "execution_count": 19,
   "metadata": {
    "colab": {
     "base_uri": "https://localhost:8080/",
     "height": 226
    },
    "id": "jbuP5iYtKaGz",
    "outputId": "4ba1201a-a7ea-4cf1-e109-c651a6c7b3b8"
   },
   "outputs": [
    {
     "data": {
      "text/html": [
       "<div>\n",
       "<style scoped>\n",
       "    .dataframe tbody tr th:only-of-type {\n",
       "        vertical-align: middle;\n",
       "    }\n",
       "\n",
       "    .dataframe tbody tr th {\n",
       "        vertical-align: top;\n",
       "    }\n",
       "\n",
       "    .dataframe thead th {\n",
       "        text-align: right;\n",
       "    }\n",
       "</style>\n",
       "<table border=\"1\" class=\"dataframe\">\n",
       "  <thead>\n",
       "    <tr style=\"text-align: right;\">\n",
       "      <th></th>\n",
       "      <th>track_name</th>\n",
       "      <th>popularity</th>\n",
       "      <th>acousticness</th>\n",
       "      <th>danceability</th>\n",
       "      <th>duration_ms</th>\n",
       "      <th>energy</th>\n",
       "      <th>instrumentalness</th>\n",
       "      <th>key</th>\n",
       "      <th>liveness</th>\n",
       "      <th>loudness</th>\n",
       "      <th>voice_gender</th>\n",
       "      <th>mode</th>\n",
       "      <th>speechiness</th>\n",
       "      <th>tempo</th>\n",
       "      <th>musician_category</th>\n",
       "      <th>valence</th>\n",
       "      <th>music_genre</th>\n",
       "    </tr>\n",
       "  </thead>\n",
       "  <tbody>\n",
       "    <tr>\n",
       "      <th>0</th>\n",
       "      <td>3659</td>\n",
       "      <td>49.178</td>\n",
       "      <td>0.970522</td>\n",
       "      <td>0.580508</td>\n",
       "      <td>214625.776</td>\n",
       "      <td>0.192107</td>\n",
       "      <td>0.000000</td>\n",
       "      <td>7</td>\n",
       "      <td>0.147134</td>\n",
       "      <td>-14.140</td>\n",
       "      <td>1</td>\n",
       "      <td>0</td>\n",
       "      <td>0.046404</td>\n",
       "      <td>143.788</td>\n",
       "      <td>0</td>\n",
       "      <td>0.598965</td>\n",
       "      <td>Jazz</td>\n",
       "    </tr>\n",
       "    <tr>\n",
       "      <th>1</th>\n",
       "      <td>540</td>\n",
       "      <td>59.827</td>\n",
       "      <td>1.009380</td>\n",
       "      <td>0.687542</td>\n",
       "      <td>216232.195</td>\n",
       "      <td>0.265942</td>\n",
       "      <td>0.000031</td>\n",
       "      <td>0</td>\n",
       "      <td>0.174655</td>\n",
       "      <td>-13.716</td>\n",
       "      <td>2</td>\n",
       "      <td>0</td>\n",
       "      <td>0.039949</td>\n",
       "      <td>0.000</td>\n",
       "      <td>0</td>\n",
       "      <td>0.357194</td>\n",
       "      <td>Jazz</td>\n",
       "    </tr>\n",
       "    <tr>\n",
       "      <th>2</th>\n",
       "      <td>14449</td>\n",
       "      <td>89.023</td>\n",
       "      <td>0.020041</td>\n",
       "      <td>0.967948</td>\n",
       "      <td>273314.723</td>\n",
       "      <td>0.857411</td>\n",
       "      <td>0.000000</td>\n",
       "      <td>5</td>\n",
       "      <td>0.042030</td>\n",
       "      <td>-4.995</td>\n",
       "      <td>1</td>\n",
       "      <td>0</td>\n",
       "      <td>0.119917</td>\n",
       "      <td>105.018</td>\n",
       "      <td>0</td>\n",
       "      <td>0.635525</td>\n",
       "      <td>Rap</td>\n",
       "    </tr>\n",
       "    <tr>\n",
       "      <th>3</th>\n",
       "      <td>2022</td>\n",
       "      <td>55.762</td>\n",
       "      <td>0.010284</td>\n",
       "      <td>0.616287</td>\n",
       "      <td>189189.605</td>\n",
       "      <td>0.970513</td>\n",
       "      <td>0.000220</td>\n",
       "      <td>5</td>\n",
       "      <td>0.124637</td>\n",
       "      <td>-4.262</td>\n",
       "      <td>0</td>\n",
       "      <td>0</td>\n",
       "      <td>0.167493</td>\n",
       "      <td>0.000</td>\n",
       "      <td>1</td>\n",
       "      <td>0.983750</td>\n",
       "      <td>Rock</td>\n",
       "    </tr>\n",
       "    <tr>\n",
       "      <th>4</th>\n",
       "      <td>11036</td>\n",
       "      <td>45.095</td>\n",
       "      <td>0.858769</td>\n",
       "      <td>0.280645</td>\n",
       "      <td>410136.987</td>\n",
       "      <td>0.114732</td>\n",
       "      <td>0.002753</td>\n",
       "      <td>9</td>\n",
       "      <td>0.134782</td>\n",
       "      <td>-26.922</td>\n",
       "      <td>1</td>\n",
       "      <td>1</td>\n",
       "      <td>0.039139</td>\n",
       "      <td>112.183</td>\n",
       "      <td>0</td>\n",
       "      <td>0.074412</td>\n",
       "      <td>Classical</td>\n",
       "    </tr>\n",
       "  </tbody>\n",
       "</table>\n",
       "</div>"
      ],
      "text/plain": [
       "   track_name  popularity  ...   valence  music_genre\n",
       "0        3659      49.178  ...  0.598965         Jazz\n",
       "1         540      59.827  ...  0.357194         Jazz\n",
       "2       14449      89.023  ...  0.635525          Rap\n",
       "3        2022      55.762  ...  0.983750         Rock\n",
       "4       11036      45.095  ...  0.074412    Classical\n",
       "\n",
       "[5 rows x 17 columns]"
      ]
     },
     "execution_count": 19,
     "metadata": {},
     "output_type": "execute_result"
    }
   ],
   "source": [
    "train1.head()"
   ]
  },
  {
   "cell_type": "code",
   "execution_count": 20,
   "metadata": {
    "id": "bqAlqmVrKr1_"
   },
   "outputs": [],
   "source": [
    "# one hot encoding in test data\n",
    "track_name=enc.fit_transform(test1['track_name'])\n",
    "key=enc.fit_transform(test1['key'])\n",
    "voice_gender = enc.fit_transform(test1['voice_gender'])\n",
    "mode = enc.fit_transform(test1['mode'])\n",
    "musician_category = enc.fit_transform(test1['musician_category'])"
   ]
  },
  {
   "cell_type": "code",
   "execution_count": 21,
   "metadata": {
    "id": "zJ-3R1HgK4IM"
   },
   "outputs": [],
   "source": [
    "test1['track_name'] = track_name\n",
    "test1['key'] = key\n",
    "test1['voice_gender'] = voice_gender\n",
    "test1['mode'] = mode\n",
    "test1['musician_category'] = musician_category"
   ]
  },
  {
   "cell_type": "code",
   "execution_count": 22,
   "metadata": {
    "colab": {
     "base_uri": "https://localhost:8080/",
     "height": 226
    },
    "id": "Bkgbj6-OLTEd",
    "outputId": "a77974b6-d459-4c5d-dce0-9c192ae3198b"
   },
   "outputs": [
    {
     "data": {
      "text/html": [
       "<div>\n",
       "<style scoped>\n",
       "    .dataframe tbody tr th:only-of-type {\n",
       "        vertical-align: middle;\n",
       "    }\n",
       "\n",
       "    .dataframe tbody tr th {\n",
       "        vertical-align: top;\n",
       "    }\n",
       "\n",
       "    .dataframe thead th {\n",
       "        text-align: right;\n",
       "    }\n",
       "</style>\n",
       "<table border=\"1\" class=\"dataframe\">\n",
       "  <thead>\n",
       "    <tr style=\"text-align: right;\">\n",
       "      <th></th>\n",
       "      <th>track_name</th>\n",
       "      <th>popularity</th>\n",
       "      <th>acousticness</th>\n",
       "      <th>danceability</th>\n",
       "      <th>duration_ms</th>\n",
       "      <th>energy</th>\n",
       "      <th>instrumentalness</th>\n",
       "      <th>key</th>\n",
       "      <th>liveness</th>\n",
       "      <th>loudness</th>\n",
       "      <th>voice_gender</th>\n",
       "      <th>mode</th>\n",
       "      <th>speechiness</th>\n",
       "      <th>tempo</th>\n",
       "      <th>musician_category</th>\n",
       "      <th>valence</th>\n",
       "    </tr>\n",
       "  </thead>\n",
       "  <tbody>\n",
       "    <tr>\n",
       "      <th>0</th>\n",
       "      <td>346</td>\n",
       "      <td>26.101</td>\n",
       "      <td>0.823765</td>\n",
       "      <td>0.115490</td>\n",
       "      <td>211462.287</td>\n",
       "      <td>0.125325</td>\n",
       "      <td>0.945272</td>\n",
       "      <td>1</td>\n",
       "      <td>0.120392</td>\n",
       "      <td>-25.541</td>\n",
       "      <td>0</td>\n",
       "      <td>1</td>\n",
       "      <td>0.038657</td>\n",
       "      <td>80.777</td>\n",
       "      <td>1</td>\n",
       "      <td>0.041238</td>\n",
       "    </tr>\n",
       "    <tr>\n",
       "      <th>1</th>\n",
       "      <td>2144</td>\n",
       "      <td>66.325</td>\n",
       "      <td>0.015441</td>\n",
       "      <td>0.592838</td>\n",
       "      <td>249151.238</td>\n",
       "      <td>0.870798</td>\n",
       "      <td>0.000108</td>\n",
       "      <td>7</td>\n",
       "      <td>0.406722</td>\n",
       "      <td>-3.905</td>\n",
       "      <td>2</td>\n",
       "      <td>0</td>\n",
       "      <td>0.051368</td>\n",
       "      <td>76.004</td>\n",
       "      <td>0</td>\n",
       "      <td>0.456309</td>\n",
       "    </tr>\n",
       "    <tr>\n",
       "      <th>2</th>\n",
       "      <td>2785</td>\n",
       "      <td>71.871</td>\n",
       "      <td>0.001006</td>\n",
       "      <td>0.510340</td>\n",
       "      <td>215693.240</td>\n",
       "      <td>0.683077</td>\n",
       "      <td>0.000000</td>\n",
       "      <td>3</td>\n",
       "      <td>0.084608</td>\n",
       "      <td>-6.825</td>\n",
       "      <td>1</td>\n",
       "      <td>0</td>\n",
       "      <td>0.034303</td>\n",
       "      <td>144.458</td>\n",
       "      <td>2</td>\n",
       "      <td>0.193332</td>\n",
       "    </tr>\n",
       "    <tr>\n",
       "      <th>3</th>\n",
       "      <td>112</td>\n",
       "      <td>56.151</td>\n",
       "      <td>0.315650</td>\n",
       "      <td>0.338336</td>\n",
       "      <td>307056.179</td>\n",
       "      <td>0.608904</td>\n",
       "      <td>0.000000</td>\n",
       "      <td>0</td>\n",
       "      <td>0.276811</td>\n",
       "      <td>-8.382</td>\n",
       "      <td>1</td>\n",
       "      <td>1</td>\n",
       "      <td>0.036934</td>\n",
       "      <td>118.145</td>\n",
       "      <td>2</td>\n",
       "      <td>0.214906</td>\n",
       "    </tr>\n",
       "    <tr>\n",
       "      <th>4</th>\n",
       "      <td>1171</td>\n",
       "      <td>43.687</td>\n",
       "      <td>0.038336</td>\n",
       "      <td>0.773904</td>\n",
       "      <td>352802.872</td>\n",
       "      <td>0.955500</td>\n",
       "      <td>0.000007</td>\n",
       "      <td>5</td>\n",
       "      <td>0.301726</td>\n",
       "      <td>-4.733</td>\n",
       "      <td>0</td>\n",
       "      <td>0</td>\n",
       "      <td>0.079688</td>\n",
       "      <td>95.012</td>\n",
       "      <td>1</td>\n",
       "      <td>0.757347</td>\n",
       "    </tr>\n",
       "  </tbody>\n",
       "</table>\n",
       "</div>"
      ],
      "text/plain": [
       "   track_name  popularity  acousticness  ...    tempo  musician_category   valence\n",
       "0         346      26.101      0.823765  ...   80.777                  1  0.041238\n",
       "1        2144      66.325      0.015441  ...   76.004                  0  0.456309\n",
       "2        2785      71.871      0.001006  ...  144.458                  2  0.193332\n",
       "3         112      56.151      0.315650  ...  118.145                  2  0.214906\n",
       "4        1171      43.687      0.038336  ...   95.012                  1  0.757347\n",
       "\n",
       "[5 rows x 16 columns]"
      ]
     },
     "execution_count": 22,
     "metadata": {},
     "output_type": "execute_result"
    }
   ],
   "source": [
    "test1.head()"
   ]
  },
  {
   "cell_type": "markdown",
   "metadata": {
    "id": "fb3PD48yw00l"
   },
   "source": [
    "Scaling the **data**"
   ]
  },
  {
   "cell_type": "code",
   "execution_count": 23,
   "metadata": {
    "id": "33Hyj7dYNhKJ"
   },
   "outputs": [],
   "source": [
    "# split the data into train and validation\n",
    "X = train1.drop(columns = ['music_genre'],axis = 1)\n",
    "y = train1.music_genre"
   ]
  },
  {
   "cell_type": "code",
   "execution_count": 24,
   "metadata": {
    "id": "eZ0qWLDGyGMV"
   },
   "outputs": [],
   "source": [
    "from sklearn.preprocessing import StandardScaler"
   ]
  },
  {
   "cell_type": "code",
   "execution_count": 25,
   "metadata": {
    "id": "juKTPI-NynVS"
   },
   "outputs": [],
   "source": [
    "sc = StandardScaler()"
   ]
  },
  {
   "cell_type": "code",
   "execution_count": 26,
   "metadata": {
    "id": "zo16qaVXyxJN"
   },
   "outputs": [],
   "source": [
    "X = sc.fit_transform(X)\n",
    "test1 = sc.transform(test1)"
   ]
  },
  {
   "cell_type": "code",
   "execution_count": 27,
   "metadata": {
    "id": "6-mdJHJsN2uP"
   },
   "outputs": [],
   "source": [
    "X_train, X_cv, y_train, y_cv = train_test_split(X, y, test_size=0.10, random_state=42)"
   ]
  },
  {
   "cell_type": "code",
   "execution_count": 28,
   "metadata": {
    "colab": {
     "base_uri": "https://localhost:8080/"
    },
    "id": "cMEo6oQZN_SE",
    "outputId": "cb531791-5d5e-42d1-a74f-c85741844f55"
   },
   "outputs": [
    {
     "data": {
      "text/plain": [
       "((14112, 16), (14112,), (1569, 16), (1569,))"
      ]
     },
     "execution_count": 28,
     "metadata": {},
     "output_type": "execute_result"
    }
   ],
   "source": [
    "X_train.shape, y_train.shape, X_cv.shape, y_cv.shape"
   ]
  },
  {
   "cell_type": "markdown",
   "metadata": {
    "id": "inUDN4IUzw9p"
   },
   "source": [
    "Model **Training**"
   ]
  },
  {
   "cell_type": "code",
   "execution_count": 29,
   "metadata": {
    "colab": {
     "base_uri": "https://localhost:8080/"
    },
    "id": "MEbTz49VOyQG",
    "outputId": "73d04973-b0b6-4494-88bb-72ad94ef5ee6"
   },
   "outputs": [
    {
     "data": {
      "text/plain": [
       "LogisticRegression()"
      ]
     },
     "execution_count": 29,
     "metadata": {},
     "output_type": "execute_result"
    }
   ],
   "source": [
    "# Logistic Regression\n",
    "clf = LogisticRegression()\n",
    "clf.fit(X_train,y_train)"
   ]
  },
  {
   "cell_type": "code",
   "execution_count": 30,
   "metadata": {
    "id": "QpU2rgf0O0gg"
   },
   "outputs": [],
   "source": [
    "# Prediction on validation data\n",
    "lRpredict = clf.predict(X_cv)"
   ]
  },
  {
   "cell_type": "code",
   "execution_count": 31,
   "metadata": {
    "colab": {
     "base_uri": "https://localhost:8080/"
    },
    "id": "v6q5jgjwPEfz",
    "outputId": "c65b0c3b-d60e-48a6-987e-a674017822b2"
   },
   "outputs": [
    {
     "name": "stdout",
     "output_type": "stream",
     "text": [
      "0.7361376673040153\n"
     ]
    }
   ],
   "source": [
    "# Print the accuracy\n",
    "print(accuracy_score(y_cv,lRpredict))"
   ]
  },
  {
   "cell_type": "code",
   "execution_count": 32,
   "metadata": {
    "colab": {
     "base_uri": "https://localhost:8080/"
    },
    "id": "XEk6yJzmPQV5",
    "outputId": "46093ef5-c702-429b-a479-0537fbc0b7d8"
   },
   "outputs": [
    {
     "data": {
      "text/plain": [
       "array([[336,   5,   2,   0,  35,   0,  10],\n",
       "       [  0,  20,   1,   0,  18,   4,  19],\n",
       "       [  4,   3,  17,   0,  24,   6,   4],\n",
       "       [  0,   0,   0,   0,   1,  33,   9],\n",
       "       [ 60,   7,   9,   0, 184,   9,  29],\n",
       "       [  0,   0,   1,   0,   6, 267,  62],\n",
       "       [  2,   3,   1,   0,  16,  31, 331]])"
      ]
     },
     "execution_count": 32,
     "metadata": {},
     "output_type": "execute_result"
    }
   ],
   "source": [
    "# Print the confusion matrix\n",
    "confusion_matrix(y_cv,lRpredict)"
   ]
  },
  {
   "cell_type": "code",
   "execution_count": 36,
   "metadata": {
    "colab": {
     "base_uri": "https://localhost:8080/"
    },
    "id": "lHZQMuh9XodJ",
    "outputId": "65d2381c-85c8-4a1d-f76b-d74da590f921"
   },
   "outputs": [
    {
     "data": {
      "text/plain": [
       "RandomForestClassifier()"
      ]
     },
     "execution_count": 36,
     "metadata": {},
     "output_type": "execute_result"
    }
   ],
   "source": [
    "# Random Forest\n",
    "from sklearn.ensemble import RandomForestClassifier\n",
    "model = RandomForestClassifier()\n",
    "model.fit(X_train,y_train)"
   ]
  },
  {
   "cell_type": "code",
   "execution_count": 37,
   "metadata": {
    "id": "nL443Yz-XsVd"
   },
   "outputs": [],
   "source": [
    "RFpredict = model.predict(X_cv)"
   ]
  },
  {
   "cell_type": "code",
   "execution_count": 38,
   "metadata": {
    "colab": {
     "base_uri": "https://localhost:8080/"
    },
    "id": "nk5-3XBFXyIG",
    "outputId": "364a0f0e-1ac6-4284-a6bb-25ce30820936"
   },
   "outputs": [
    {
     "name": "stdout",
     "output_type": "stream",
     "text": [
      "0.7705544933078394\n",
      "[[350   2   0   0  29   0   7]\n",
      " [  0  26   0   0  10   3  23]\n",
      " [  3   0  24   0  24   2   5]\n",
      " [  0   0   0   0   0  40   3]\n",
      " [ 43   4   8   0 200   9  34]\n",
      " [  0   1   1   5   2 270  57]\n",
      " [  2   1   0   0  14  28 339]]\n",
      "              precision    recall  f1-score   support\n",
      "\n",
      "   Classical       0.88      0.90      0.89       388\n",
      "     Country       0.76      0.42      0.54        62\n",
      "  Electronic       0.73      0.41      0.53        58\n",
      "     Hip-Hop       0.00      0.00      0.00        43\n",
      "        Jazz       0.72      0.67      0.69       298\n",
      "         Rap       0.77      0.80      0.78       336\n",
      "        Rock       0.72      0.88      0.80       384\n",
      "\n",
      "    accuracy                           0.77      1569\n",
      "   macro avg       0.65      0.58      0.60      1569\n",
      "weighted avg       0.75      0.77      0.76      1569\n",
      "\n"
     ]
    }
   ],
   "source": [
    "print(accuracy_score(y_cv,RFpredict))\n",
    "print(confusion_matrix(y_cv,RFpredict))\n",
    "print(classification_report(y_cv,RFpredict))"
   ]
  },
  {
   "cell_type": "code",
   "execution_count": 39,
   "metadata": {
    "id": "qDeLNw4EYAJP"
   },
   "outputs": [],
   "source": [
    "# prediction on test data set\n",
    "RFpredict1 = model.predict(test1)"
   ]
  },
  {
   "cell_type": "code",
   "execution_count": 40,
   "metadata": {
    "colab": {
     "base_uri": "https://localhost:8080/"
    },
    "id": "u1g3nnaRX4Pn",
    "outputId": "69535162-129b-4297-83f9-c17c8683d5e3"
   },
   "outputs": [
    {
     "name": "stdout",
     "output_type": "stream",
     "text": [
      "      instance_id music_genre\n",
      "0     MSC_70753.0   Classical\n",
      "1     MSC_24064.0        Rock\n",
      "2     MSC_22731.0        Rock\n",
      "3     MSC_32095.0        Rock\n",
      "4     MSC_24198.0        Jazz\n",
      "...           ...         ...\n",
      "3916  MSC_80955.0   Classical\n",
      "3917  MSC_72767.0        Rock\n",
      "3918  MSC_40192.0   Classical\n",
      "3919  MSC_56067.0        Rock\n",
      "3920  MSC_90169.0        Jazz\n",
      "\n",
      "[3921 rows x 2 columns]\n"
     ]
    }
   ],
   "source": [
    "# Save the prediction results\n",
    "submission = pd.DataFrame({\n",
    "        \"instance_id\": test['instance_id'],\n",
    "        \"music_genre\": RFpredict1\n",
    "    })\n",
    "submission.to_csv('music_genreSubmission1.csv', index=False)\n",
    "print(submission)"
   ]
  },
  {
   "cell_type": "code",
   "execution_count": 41,
   "metadata": {
    "id": "QtJR2qrYQAvW"
   },
   "outputs": [],
   "source": [
    "# XG Boost\n",
    "xgb_model = xgb.XGBClassifier(silent=False, \n",
    "                              scale_pos_weight=1,\n",
    "                              learning_rate=0.1,\n",
    "                              colsample_bytree =0.8,\n",
    "                              subsample = 0.8,\n",
    "                              objective='binary:logistic',\n",
    "                              n_estimators=1000, \n",
    "                              max_depth=4, \n",
    "                              reg_alpha=0.01,\n",
    "                              gamma=0,\n",
    "                              random_state=42)"
   ]
  },
  {
   "cell_type": "code",
   "execution_count": 42,
   "metadata": {
    "colab": {
     "base_uri": "https://localhost:8080/"
    },
    "id": "PvVzAqcsR90d",
    "outputId": "5cf51703-51b0-47f0-961d-3b6e121b3ce2"
   },
   "outputs": [
    {
     "data": {
      "text/plain": [
       "XGBClassifier(colsample_bytree=0.8, max_depth=4, n_estimators=1000,\n",
       "              objective='multi:softprob', random_state=42, reg_alpha=0.01,\n",
       "              silent=False, subsample=0.8)"
      ]
     },
     "execution_count": 42,
     "metadata": {},
     "output_type": "execute_result"
    }
   ],
   "source": [
    "# Model training\n",
    "xgb_model.fit(X_train, y_train,\n",
    "              verbose=True)"
   ]
  },
  {
   "cell_type": "code",
   "execution_count": 43,
   "metadata": {
    "id": "rQiPHL0jZg7w"
   },
   "outputs": [],
   "source": [
    "# predict on validation data\n",
    "RFpredict2 = xgb_model.predict(X_cv)"
   ]
  },
  {
   "cell_type": "code",
   "execution_count": 44,
   "metadata": {
    "colab": {
     "base_uri": "https://localhost:8080/"
    },
    "id": "Zk8SS9yIpQN6",
    "outputId": "3a5bdc4b-4132-4007-9bff-b6946c237d6a"
   },
   "outputs": [
    {
     "name": "stdout",
     "output_type": "stream",
     "text": [
      "0.7839388145315488\n"
     ]
    }
   ],
   "source": [
    "print(accuracy_score(y_cv,RFpredict2))"
   ]
  },
  {
   "cell_type": "code",
   "execution_count": 45,
   "metadata": {
    "id": "6XBMk3O7a6JF"
   },
   "outputs": [],
   "source": [
    "# prediction on test data\n",
    "RFpredict3 = xgb_model.predict(test1)"
   ]
  },
  {
   "cell_type": "code",
   "execution_count": 46,
   "metadata": {
    "colab": {
     "base_uri": "https://localhost:8080/"
    },
    "id": "73RPxh7vpWPP",
    "outputId": "d6042b08-4d2b-4dc5-ccc7-6225af75e7a4"
   },
   "outputs": [
    {
     "data": {
      "text/plain": [
       "array(['Classical', 'Rock', 'Rap', ..., 'Classical', 'Country', 'Jazz'],\n",
       "      dtype=object)"
      ]
     },
     "execution_count": 46,
     "metadata": {},
     "output_type": "execute_result"
    }
   ],
   "source": [
    "RFpredict3"
   ]
  },
  {
   "cell_type": "code",
   "execution_count": 48,
   "metadata": {
    "colab": {
     "base_uri": "https://localhost:8080/"
    },
    "id": "oCvfYk-oa0JY",
    "outputId": "fefe9736-4313-4f3b-bfe3-04db85b2f899"
   },
   "outputs": [
    {
     "name": "stdout",
     "output_type": "stream",
     "text": [
      "      instance_id music_genre\n",
      "0     MSC_70753.0   Classical\n",
      "1     MSC_24064.0        Rock\n",
      "2     MSC_22731.0         Rap\n",
      "3     MSC_32095.0        Rock\n",
      "4     MSC_24198.0        Jazz\n",
      "...           ...         ...\n",
      "3916  MSC_80955.0   Classical\n",
      "3917  MSC_72767.0        Rock\n",
      "3918  MSC_40192.0   Classical\n",
      "3919  MSC_56067.0     Country\n",
      "3920  MSC_90169.0        Jazz\n",
      "\n",
      "[3921 rows x 2 columns]\n"
     ]
    }
   ],
   "source": [
    "# Save the prediction results\n",
    "submission = pd.DataFrame({\n",
    "        \"instance_id\": test['instance_id'],\n",
    "        \"music_genre\": RFpredict3\n",
    "    })\n",
    "submission.to_csv('music_genreSubmission3.csv', index=False)\n",
    "print(submission)"
   ]
  },
  {
   "cell_type": "code",
   "execution_count": null,
   "metadata": {
    "id": "5Oc45RUY3oL5"
   },
   "outputs": [],
   "source": []
  }
 ],
 "metadata": {
  "colab": {
   "name": "music_genre.ipynb",
   "provenance": []
  },
  "kernelspec": {
   "display_name": "Python 3",
   "language": "python",
   "name": "python3"
  },
  "language_info": {
   "codemirror_mode": {
    "name": "ipython",
    "version": 3
   },
   "file_extension": ".py",
   "mimetype": "text/x-python",
   "name": "python",
   "nbconvert_exporter": "python",
   "pygments_lexer": "ipython3",
   "version": "3.8.3"
  }
 },
 "nbformat": 4,
 "nbformat_minor": 1
}
