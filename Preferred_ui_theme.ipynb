{
  "nbformat": 4,
  "nbformat_minor": 0,
  "metadata": {
    "colab": {
      "name": "Preferred_ui_theme.ipynb",
      "provenance": [],
      "collapsed_sections": []
    },
    "kernelspec": {
      "name": "python3",
      "display_name": "Python 3"
    },
    "language_info": {
      "name": "python"
    }
  },
  "cells": [
    {
      "cell_type": "code",
      "execution_count": 61,
      "metadata": {
        "id": "oyWXstxQMYvw"
      },
      "outputs": [],
      "source": [
        "# Import relevent library\n",
        "\n",
        "import pandas as pd \n",
        "import numpy as np\n",
        "import matplotlib.pyplot as plt\n",
        "import seaborn as sns\n",
        "\n",
        "import plotly.express as px\n",
        "import plotly.graph_objects as go\n",
        "from plotly.subplots import make_subplots\n",
        "import warnings\n",
        "warnings.filterwarnings('ignore')\n",
        "\n",
        "\n",
        "from sklearn.neighbors import KNeighborsClassifier\n",
        "\n",
        "\n",
        "from sklearn.preprocessing import StandardScaler\n",
        "from sklearn.preprocessing import LabelEncoder\n",
        "\n",
        "from sklearn.tree import DecisionTreeClassifier\n",
        "from sklearn.ensemble import RandomForestClassifier\n",
        "from sklearn.naive_bayes import GaussianNB\n",
        "from sklearn.neighbors import KNeighborsClassifier\n",
        "from sklearn.svm import SVC\n",
        "from sklearn.neural_network import MLPClassifier\n",
        "from sklearn.ensemble import AdaBoostClassifier\n",
        "from sklearn.ensemble import GradientBoostingClassifier\n",
        "from sklearn.ensemble import ExtraTreesClassifier\n",
        "from sklearn.linear_model import LogisticRegression\n",
        "from sklearn.model_selection import train_test_split\n",
        "from sklearn.metrics import accuracy_score\n",
        "from xgboost import XGBClassifier\n",
        "from catboost import CatBoostClassifier\n",
        "from sklearn import metrics\n",
        "from sklearn.metrics import roc_curve\n",
        "from sklearn.metrics import recall_score, confusion_matrix, precision_score, f1_score, accuracy_score, classification_report\n",
        "\n",
        "from sklearn.ensemble import VotingClassifier\n",
        "\n",
        "\n",
        "from sklearn.metrics import confusion_matrix, accuracy_score \n",
        "from sklearn.metrics import f1_score, precision_score, recall_score, fbeta_score\n",
        "from statsmodels.stats.outliers_influence import variance_inflation_factor\n",
        "from sklearn.model_selection import cross_val_score\n",
        "from sklearn.model_selection import GridSearchCV\n",
        "from sklearn.model_selection import ShuffleSplit\n",
        "from sklearn.model_selection import KFold\n",
        "from sklearn import feature_selection\n",
        "from sklearn import model_selection\n",
        "from sklearn import metrics\n",
        "from sklearn.metrics import classification_report, precision_recall_curve\n",
        "from sklearn.metrics import auc, roc_auc_score, roc_curve\n",
        "from sklearn.metrics import make_scorer, recall_score, log_loss\n",
        "from sklearn.metrics import average_precision_score\n",
        "#Standard libraries for data visualization:"
      ]
    },
    {
      "cell_type": "code",
      "source": [
        "# Load the train and test data\n",
        "train =  pd.read_csv('/content/train.csv')\n",
        "test = pd.read_csv('/content/test.csv')"
      ],
      "metadata": {
        "id": "f_-cEnLhOLC1"
      },
      "execution_count": 2,
      "outputs": []
    },
    {
      "cell_type": "code",
      "source": [
        "train.head()"
      ],
      "metadata": {
        "colab": {
          "base_uri": "https://localhost:8080/",
          "height": 322
        },
        "id": "Cas7stklOyrE",
        "outputId": "92d49fd4-c976-46c5-8426-249761a44e37"
      },
      "execution_count": 3,
      "outputs": [
        {
          "output_type": "execute_result",
          "data": {
            "text/plain": [
              "    CustomerID   Age  Gender           City             State  \\\n",
              "0  CusID_00126  22.0    Male      Vancouver  British Columbia   \n",
              "1  CusID_00927   NaN  Female       Budapest   Central Hungary   \n",
              "2  CusID_01646  26.0    Male         Mumbai       Maharashtra   \n",
              "3  CusID_06228   NaN    Male  San Francisco        California   \n",
              "4  CusID_04239  29.0  Female         Taipei            Taiwan   \n",
              "\n",
              "   No_of_orders_placed Sign_up_date Last_order_placed_date  is_premium_member  \\\n",
              "0                  4.0   2017-06-23             2021-04-01                  0   \n",
              "1                  9.0   2018-05-21             2020-01-26                  0   \n",
              "2                  NaN   2019-02-15             2020-11-28                  0   \n",
              "3                  7.0   2019-07-18             2020-11-16                  0   \n",
              "4                  NaN   2018-02-05             2020-03-12                  0   \n",
              "\n",
              "   Women’s_Clothing  Men’s_Clothing  Kid’s_Clothing  Home_&_Living    Beauty  \\\n",
              "0          2.945701        8.924431        2.000000       2.325376  1.924891   \n",
              "1          6.115229        2.363926        6.968752       7.355854  8.561461   \n",
              "2          1.000000        3.000000        1.766530       3.471802  0.808147   \n",
              "3          2.116475        9.064060        5.387599            NaN  0.459090   \n",
              "4          7.352878        1.995744        2.676853       7.159554  8.184695   \n",
              "\n",
              "   Electronics Preferred_Theme  \n",
              "0     9.820254          New_UI  \n",
              "1     2.162229          Old_UI  \n",
              "2     9.055563          New_UI  \n",
              "3     7.343461          New_UI  \n",
              "4     2.000000          Old_UI  "
            ],
            "text/html": [
              "\n",
              "  <div id=\"df-8c80a69d-de5a-485c-9cf3-d2bfeabdc25f\">\n",
              "    <div class=\"colab-df-container\">\n",
              "      <div>\n",
              "<style scoped>\n",
              "    .dataframe tbody tr th:only-of-type {\n",
              "        vertical-align: middle;\n",
              "    }\n",
              "\n",
              "    .dataframe tbody tr th {\n",
              "        vertical-align: top;\n",
              "    }\n",
              "\n",
              "    .dataframe thead th {\n",
              "        text-align: right;\n",
              "    }\n",
              "</style>\n",
              "<table border=\"1\" class=\"dataframe\">\n",
              "  <thead>\n",
              "    <tr style=\"text-align: right;\">\n",
              "      <th></th>\n",
              "      <th>CustomerID</th>\n",
              "      <th>Age</th>\n",
              "      <th>Gender</th>\n",
              "      <th>City</th>\n",
              "      <th>State</th>\n",
              "      <th>No_of_orders_placed</th>\n",
              "      <th>Sign_up_date</th>\n",
              "      <th>Last_order_placed_date</th>\n",
              "      <th>is_premium_member</th>\n",
              "      <th>Women’s_Clothing</th>\n",
              "      <th>Men’s_Clothing</th>\n",
              "      <th>Kid’s_Clothing</th>\n",
              "      <th>Home_&amp;_Living</th>\n",
              "      <th>Beauty</th>\n",
              "      <th>Electronics</th>\n",
              "      <th>Preferred_Theme</th>\n",
              "    </tr>\n",
              "  </thead>\n",
              "  <tbody>\n",
              "    <tr>\n",
              "      <th>0</th>\n",
              "      <td>CusID_00126</td>\n",
              "      <td>22.0</td>\n",
              "      <td>Male</td>\n",
              "      <td>Vancouver</td>\n",
              "      <td>British Columbia</td>\n",
              "      <td>4.0</td>\n",
              "      <td>2017-06-23</td>\n",
              "      <td>2021-04-01</td>\n",
              "      <td>0</td>\n",
              "      <td>2.945701</td>\n",
              "      <td>8.924431</td>\n",
              "      <td>2.000000</td>\n",
              "      <td>2.325376</td>\n",
              "      <td>1.924891</td>\n",
              "      <td>9.820254</td>\n",
              "      <td>New_UI</td>\n",
              "    </tr>\n",
              "    <tr>\n",
              "      <th>1</th>\n",
              "      <td>CusID_00927</td>\n",
              "      <td>NaN</td>\n",
              "      <td>Female</td>\n",
              "      <td>Budapest</td>\n",
              "      <td>Central Hungary</td>\n",
              "      <td>9.0</td>\n",
              "      <td>2018-05-21</td>\n",
              "      <td>2020-01-26</td>\n",
              "      <td>0</td>\n",
              "      <td>6.115229</td>\n",
              "      <td>2.363926</td>\n",
              "      <td>6.968752</td>\n",
              "      <td>7.355854</td>\n",
              "      <td>8.561461</td>\n",
              "      <td>2.162229</td>\n",
              "      <td>Old_UI</td>\n",
              "    </tr>\n",
              "    <tr>\n",
              "      <th>2</th>\n",
              "      <td>CusID_01646</td>\n",
              "      <td>26.0</td>\n",
              "      <td>Male</td>\n",
              "      <td>Mumbai</td>\n",
              "      <td>Maharashtra</td>\n",
              "      <td>NaN</td>\n",
              "      <td>2019-02-15</td>\n",
              "      <td>2020-11-28</td>\n",
              "      <td>0</td>\n",
              "      <td>1.000000</td>\n",
              "      <td>3.000000</td>\n",
              "      <td>1.766530</td>\n",
              "      <td>3.471802</td>\n",
              "      <td>0.808147</td>\n",
              "      <td>9.055563</td>\n",
              "      <td>New_UI</td>\n",
              "    </tr>\n",
              "    <tr>\n",
              "      <th>3</th>\n",
              "      <td>CusID_06228</td>\n",
              "      <td>NaN</td>\n",
              "      <td>Male</td>\n",
              "      <td>San Francisco</td>\n",
              "      <td>California</td>\n",
              "      <td>7.0</td>\n",
              "      <td>2019-07-18</td>\n",
              "      <td>2020-11-16</td>\n",
              "      <td>0</td>\n",
              "      <td>2.116475</td>\n",
              "      <td>9.064060</td>\n",
              "      <td>5.387599</td>\n",
              "      <td>NaN</td>\n",
              "      <td>0.459090</td>\n",
              "      <td>7.343461</td>\n",
              "      <td>New_UI</td>\n",
              "    </tr>\n",
              "    <tr>\n",
              "      <th>4</th>\n",
              "      <td>CusID_04239</td>\n",
              "      <td>29.0</td>\n",
              "      <td>Female</td>\n",
              "      <td>Taipei</td>\n",
              "      <td>Taiwan</td>\n",
              "      <td>NaN</td>\n",
              "      <td>2018-02-05</td>\n",
              "      <td>2020-03-12</td>\n",
              "      <td>0</td>\n",
              "      <td>7.352878</td>\n",
              "      <td>1.995744</td>\n",
              "      <td>2.676853</td>\n",
              "      <td>7.159554</td>\n",
              "      <td>8.184695</td>\n",
              "      <td>2.000000</td>\n",
              "      <td>Old_UI</td>\n",
              "    </tr>\n",
              "  </tbody>\n",
              "</table>\n",
              "</div>\n",
              "      <button class=\"colab-df-convert\" onclick=\"convertToInteractive('df-8c80a69d-de5a-485c-9cf3-d2bfeabdc25f')\"\n",
              "              title=\"Convert this dataframe to an interactive table.\"\n",
              "              style=\"display:none;\">\n",
              "        \n",
              "  <svg xmlns=\"http://www.w3.org/2000/svg\" height=\"24px\"viewBox=\"0 0 24 24\"\n",
              "       width=\"24px\">\n",
              "    <path d=\"M0 0h24v24H0V0z\" fill=\"none\"/>\n",
              "    <path d=\"M18.56 5.44l.94 2.06.94-2.06 2.06-.94-2.06-.94-.94-2.06-.94 2.06-2.06.94zm-11 1L8.5 8.5l.94-2.06 2.06-.94-2.06-.94L8.5 2.5l-.94 2.06-2.06.94zm10 10l.94 2.06.94-2.06 2.06-.94-2.06-.94-.94-2.06-.94 2.06-2.06.94z\"/><path d=\"M17.41 7.96l-1.37-1.37c-.4-.4-.92-.59-1.43-.59-.52 0-1.04.2-1.43.59L10.3 9.45l-7.72 7.72c-.78.78-.78 2.05 0 2.83L4 21.41c.39.39.9.59 1.41.59.51 0 1.02-.2 1.41-.59l7.78-7.78 2.81-2.81c.8-.78.8-2.07 0-2.86zM5.41 20L4 18.59l7.72-7.72 1.47 1.35L5.41 20z\"/>\n",
              "  </svg>\n",
              "      </button>\n",
              "      \n",
              "  <style>\n",
              "    .colab-df-container {\n",
              "      display:flex;\n",
              "      flex-wrap:wrap;\n",
              "      gap: 12px;\n",
              "    }\n",
              "\n",
              "    .colab-df-convert {\n",
              "      background-color: #E8F0FE;\n",
              "      border: none;\n",
              "      border-radius: 50%;\n",
              "      cursor: pointer;\n",
              "      display: none;\n",
              "      fill: #1967D2;\n",
              "      height: 32px;\n",
              "      padding: 0 0 0 0;\n",
              "      width: 32px;\n",
              "    }\n",
              "\n",
              "    .colab-df-convert:hover {\n",
              "      background-color: #E2EBFA;\n",
              "      box-shadow: 0px 1px 2px rgba(60, 64, 67, 0.3), 0px 1px 3px 1px rgba(60, 64, 67, 0.15);\n",
              "      fill: #174EA6;\n",
              "    }\n",
              "\n",
              "    [theme=dark] .colab-df-convert {\n",
              "      background-color: #3B4455;\n",
              "      fill: #D2E3FC;\n",
              "    }\n",
              "\n",
              "    [theme=dark] .colab-df-convert:hover {\n",
              "      background-color: #434B5C;\n",
              "      box-shadow: 0px 1px 3px 1px rgba(0, 0, 0, 0.15);\n",
              "      filter: drop-shadow(0px 1px 2px rgba(0, 0, 0, 0.3));\n",
              "      fill: #FFFFFF;\n",
              "    }\n",
              "  </style>\n",
              "\n",
              "      <script>\n",
              "        const buttonEl =\n",
              "          document.querySelector('#df-8c80a69d-de5a-485c-9cf3-d2bfeabdc25f button.colab-df-convert');\n",
              "        buttonEl.style.display =\n",
              "          google.colab.kernel.accessAllowed ? 'block' : 'none';\n",
              "\n",
              "        async function convertToInteractive(key) {\n",
              "          const element = document.querySelector('#df-8c80a69d-de5a-485c-9cf3-d2bfeabdc25f');\n",
              "          const dataTable =\n",
              "            await google.colab.kernel.invokeFunction('convertToInteractive',\n",
              "                                                     [key], {});\n",
              "          if (!dataTable) return;\n",
              "\n",
              "          const docLinkHtml = 'Like what you see? Visit the ' +\n",
              "            '<a target=\"_blank\" href=https://colab.research.google.com/notebooks/data_table.ipynb>data table notebook</a>'\n",
              "            + ' to learn more about interactive tables.';\n",
              "          element.innerHTML = '';\n",
              "          dataTable['output_type'] = 'display_data';\n",
              "          await google.colab.output.renderOutput(dataTable, element);\n",
              "          const docLink = document.createElement('div');\n",
              "          docLink.innerHTML = docLinkHtml;\n",
              "          element.appendChild(docLink);\n",
              "        }\n",
              "      </script>\n",
              "    </div>\n",
              "  </div>\n",
              "  "
            ]
          },
          "metadata": {},
          "execution_count": 3
        }
      ]
    },
    {
      "cell_type": "code",
      "source": [
        "test.head()"
      ],
      "metadata": {
        "colab": {
          "base_uri": "https://localhost:8080/",
          "height": 357
        },
        "id": "GjTWulmzO8YS",
        "outputId": "b27fe6c9-c0d8-42c6-e2d9-f3836f54d007"
      },
      "execution_count": 4,
      "outputs": [
        {
          "output_type": "execute_result",
          "data": {
            "text/plain": [
              "    CustomerID   Age         Gender           City              State  \\\n",
              "0  CusID_09654  20.0         Female      Vancouver   British Columbia   \n",
              "1  CusID_09727  25.0  Not_Specified       Budapest    Central Hungary   \n",
              "2  CusID_07391  31.0         Female          Perth  Western Australia   \n",
              "3  CusID_08577  17.0         Female        Kolkata        West Bengal   \n",
              "4  CusID_08122  39.0           Male  New York City           New York   \n",
              "\n",
              "   No_of_orders_placed Sign_up_date Last_order_placed_date  is_premium_member  \\\n",
              "0                  5.0   2019-11-27             2020-03-22                  0   \n",
              "1                 11.0   2016-12-01             2021-08-22                  1   \n",
              "2                  1.0   2019-10-31             2020-11-28                  1   \n",
              "3                  7.0   2019-09-05             2021-03-20                  0   \n",
              "4                  8.0   2019-07-17             2021-01-19                  0   \n",
              "\n",
              "   Women’s_Clothing  Men’s_Clothing  Kid’s_Clothing  Home_&_Living    Beauty  \\\n",
              "0          4.000000        3.043023        6.231789       8.561328  9.893144   \n",
              "1          4.379066        5.819171        6.923614       4.529057  5.105539   \n",
              "2          7.946141        4.000000        9.939050       9.744879  8.874676   \n",
              "3          8.396490        3.636100        4.170301       8.412250  9.389648   \n",
              "4          2.443467        9.143171        6.307817       3.224570  1.892078   \n",
              "\n",
              "   Electronics  \n",
              "0     1.197478  \n",
              "1     4.608664  \n",
              "2     2.069313  \n",
              "3     3.103196  \n",
              "4     7.298316  "
            ],
            "text/html": [
              "\n",
              "  <div id=\"df-6f4f2f22-d0fb-4e05-9dc4-628b1f72d0ea\">\n",
              "    <div class=\"colab-df-container\">\n",
              "      <div>\n",
              "<style scoped>\n",
              "    .dataframe tbody tr th:only-of-type {\n",
              "        vertical-align: middle;\n",
              "    }\n",
              "\n",
              "    .dataframe tbody tr th {\n",
              "        vertical-align: top;\n",
              "    }\n",
              "\n",
              "    .dataframe thead th {\n",
              "        text-align: right;\n",
              "    }\n",
              "</style>\n",
              "<table border=\"1\" class=\"dataframe\">\n",
              "  <thead>\n",
              "    <tr style=\"text-align: right;\">\n",
              "      <th></th>\n",
              "      <th>CustomerID</th>\n",
              "      <th>Age</th>\n",
              "      <th>Gender</th>\n",
              "      <th>City</th>\n",
              "      <th>State</th>\n",
              "      <th>No_of_orders_placed</th>\n",
              "      <th>Sign_up_date</th>\n",
              "      <th>Last_order_placed_date</th>\n",
              "      <th>is_premium_member</th>\n",
              "      <th>Women’s_Clothing</th>\n",
              "      <th>Men’s_Clothing</th>\n",
              "      <th>Kid’s_Clothing</th>\n",
              "      <th>Home_&amp;_Living</th>\n",
              "      <th>Beauty</th>\n",
              "      <th>Electronics</th>\n",
              "    </tr>\n",
              "  </thead>\n",
              "  <tbody>\n",
              "    <tr>\n",
              "      <th>0</th>\n",
              "      <td>CusID_09654</td>\n",
              "      <td>20.0</td>\n",
              "      <td>Female</td>\n",
              "      <td>Vancouver</td>\n",
              "      <td>British Columbia</td>\n",
              "      <td>5.0</td>\n",
              "      <td>2019-11-27</td>\n",
              "      <td>2020-03-22</td>\n",
              "      <td>0</td>\n",
              "      <td>4.000000</td>\n",
              "      <td>3.043023</td>\n",
              "      <td>6.231789</td>\n",
              "      <td>8.561328</td>\n",
              "      <td>9.893144</td>\n",
              "      <td>1.197478</td>\n",
              "    </tr>\n",
              "    <tr>\n",
              "      <th>1</th>\n",
              "      <td>CusID_09727</td>\n",
              "      <td>25.0</td>\n",
              "      <td>Not_Specified</td>\n",
              "      <td>Budapest</td>\n",
              "      <td>Central Hungary</td>\n",
              "      <td>11.0</td>\n",
              "      <td>2016-12-01</td>\n",
              "      <td>2021-08-22</td>\n",
              "      <td>1</td>\n",
              "      <td>4.379066</td>\n",
              "      <td>5.819171</td>\n",
              "      <td>6.923614</td>\n",
              "      <td>4.529057</td>\n",
              "      <td>5.105539</td>\n",
              "      <td>4.608664</td>\n",
              "    </tr>\n",
              "    <tr>\n",
              "      <th>2</th>\n",
              "      <td>CusID_07391</td>\n",
              "      <td>31.0</td>\n",
              "      <td>Female</td>\n",
              "      <td>Perth</td>\n",
              "      <td>Western Australia</td>\n",
              "      <td>1.0</td>\n",
              "      <td>2019-10-31</td>\n",
              "      <td>2020-11-28</td>\n",
              "      <td>1</td>\n",
              "      <td>7.946141</td>\n",
              "      <td>4.000000</td>\n",
              "      <td>9.939050</td>\n",
              "      <td>9.744879</td>\n",
              "      <td>8.874676</td>\n",
              "      <td>2.069313</td>\n",
              "    </tr>\n",
              "    <tr>\n",
              "      <th>3</th>\n",
              "      <td>CusID_08577</td>\n",
              "      <td>17.0</td>\n",
              "      <td>Female</td>\n",
              "      <td>Kolkata</td>\n",
              "      <td>West Bengal</td>\n",
              "      <td>7.0</td>\n",
              "      <td>2019-09-05</td>\n",
              "      <td>2021-03-20</td>\n",
              "      <td>0</td>\n",
              "      <td>8.396490</td>\n",
              "      <td>3.636100</td>\n",
              "      <td>4.170301</td>\n",
              "      <td>8.412250</td>\n",
              "      <td>9.389648</td>\n",
              "      <td>3.103196</td>\n",
              "    </tr>\n",
              "    <tr>\n",
              "      <th>4</th>\n",
              "      <td>CusID_08122</td>\n",
              "      <td>39.0</td>\n",
              "      <td>Male</td>\n",
              "      <td>New York City</td>\n",
              "      <td>New York</td>\n",
              "      <td>8.0</td>\n",
              "      <td>2019-07-17</td>\n",
              "      <td>2021-01-19</td>\n",
              "      <td>0</td>\n",
              "      <td>2.443467</td>\n",
              "      <td>9.143171</td>\n",
              "      <td>6.307817</td>\n",
              "      <td>3.224570</td>\n",
              "      <td>1.892078</td>\n",
              "      <td>7.298316</td>\n",
              "    </tr>\n",
              "  </tbody>\n",
              "</table>\n",
              "</div>\n",
              "      <button class=\"colab-df-convert\" onclick=\"convertToInteractive('df-6f4f2f22-d0fb-4e05-9dc4-628b1f72d0ea')\"\n",
              "              title=\"Convert this dataframe to an interactive table.\"\n",
              "              style=\"display:none;\">\n",
              "        \n",
              "  <svg xmlns=\"http://www.w3.org/2000/svg\" height=\"24px\"viewBox=\"0 0 24 24\"\n",
              "       width=\"24px\">\n",
              "    <path d=\"M0 0h24v24H0V0z\" fill=\"none\"/>\n",
              "    <path d=\"M18.56 5.44l.94 2.06.94-2.06 2.06-.94-2.06-.94-.94-2.06-.94 2.06-2.06.94zm-11 1L8.5 8.5l.94-2.06 2.06-.94-2.06-.94L8.5 2.5l-.94 2.06-2.06.94zm10 10l.94 2.06.94-2.06 2.06-.94-2.06-.94-.94-2.06-.94 2.06-2.06.94z\"/><path d=\"M17.41 7.96l-1.37-1.37c-.4-.4-.92-.59-1.43-.59-.52 0-1.04.2-1.43.59L10.3 9.45l-7.72 7.72c-.78.78-.78 2.05 0 2.83L4 21.41c.39.39.9.59 1.41.59.51 0 1.02-.2 1.41-.59l7.78-7.78 2.81-2.81c.8-.78.8-2.07 0-2.86zM5.41 20L4 18.59l7.72-7.72 1.47 1.35L5.41 20z\"/>\n",
              "  </svg>\n",
              "      </button>\n",
              "      \n",
              "  <style>\n",
              "    .colab-df-container {\n",
              "      display:flex;\n",
              "      flex-wrap:wrap;\n",
              "      gap: 12px;\n",
              "    }\n",
              "\n",
              "    .colab-df-convert {\n",
              "      background-color: #E8F0FE;\n",
              "      border: none;\n",
              "      border-radius: 50%;\n",
              "      cursor: pointer;\n",
              "      display: none;\n",
              "      fill: #1967D2;\n",
              "      height: 32px;\n",
              "      padding: 0 0 0 0;\n",
              "      width: 32px;\n",
              "    }\n",
              "\n",
              "    .colab-df-convert:hover {\n",
              "      background-color: #E2EBFA;\n",
              "      box-shadow: 0px 1px 2px rgba(60, 64, 67, 0.3), 0px 1px 3px 1px rgba(60, 64, 67, 0.15);\n",
              "      fill: #174EA6;\n",
              "    }\n",
              "\n",
              "    [theme=dark] .colab-df-convert {\n",
              "      background-color: #3B4455;\n",
              "      fill: #D2E3FC;\n",
              "    }\n",
              "\n",
              "    [theme=dark] .colab-df-convert:hover {\n",
              "      background-color: #434B5C;\n",
              "      box-shadow: 0px 1px 3px 1px rgba(0, 0, 0, 0.15);\n",
              "      filter: drop-shadow(0px 1px 2px rgba(0, 0, 0, 0.3));\n",
              "      fill: #FFFFFF;\n",
              "    }\n",
              "  </style>\n",
              "\n",
              "      <script>\n",
              "        const buttonEl =\n",
              "          document.querySelector('#df-6f4f2f22-d0fb-4e05-9dc4-628b1f72d0ea button.colab-df-convert');\n",
              "        buttonEl.style.display =\n",
              "          google.colab.kernel.accessAllowed ? 'block' : 'none';\n",
              "\n",
              "        async function convertToInteractive(key) {\n",
              "          const element = document.querySelector('#df-6f4f2f22-d0fb-4e05-9dc4-628b1f72d0ea');\n",
              "          const dataTable =\n",
              "            await google.colab.kernel.invokeFunction('convertToInteractive',\n",
              "                                                     [key], {});\n",
              "          if (!dataTable) return;\n",
              "\n",
              "          const docLinkHtml = 'Like what you see? Visit the ' +\n",
              "            '<a target=\"_blank\" href=https://colab.research.google.com/notebooks/data_table.ipynb>data table notebook</a>'\n",
              "            + ' to learn more about interactive tables.';\n",
              "          element.innerHTML = '';\n",
              "          dataTable['output_type'] = 'display_data';\n",
              "          await google.colab.output.renderOutput(dataTable, element);\n",
              "          const docLink = document.createElement('div');\n",
              "          docLink.innerHTML = docLinkHtml;\n",
              "          element.appendChild(docLink);\n",
              "        }\n",
              "      </script>\n",
              "    </div>\n",
              "  </div>\n",
              "  "
            ]
          },
          "metadata": {},
          "execution_count": 4
        }
      ]
    },
    {
      "cell_type": "code",
      "source": [
        "# Checking missing values in train dataset\n",
        "\n",
        "train.isnull().sum()"
      ],
      "metadata": {
        "colab": {
          "base_uri": "https://localhost:8080/"
        },
        "id": "Uq04BQepPCRe",
        "outputId": "3e66b286-d5bd-429a-e69f-ab951ee71941"
      },
      "execution_count": 19,
      "outputs": [
        {
          "output_type": "execute_result",
          "data": {
            "text/plain": [
              "CustomerID                0\n",
              "Age                       0\n",
              "Gender                    0\n",
              "City                      0\n",
              "State                     0\n",
              "No_of_orders_placed       0\n",
              "Sign_up_date              0\n",
              "Last_order_placed_date    0\n",
              "is_premium_member         0\n",
              "Women’s_Clothing          0\n",
              "Men’s_Clothing            0\n",
              "Kid’s_Clothing            0\n",
              "Home_&_Living             0\n",
              "Beauty                    0\n",
              "Electronics               0\n",
              "Preferred_Theme           0\n",
              "dtype: int64"
            ]
          },
          "metadata": {},
          "execution_count": 19
        }
      ]
    },
    {
      "cell_type": "code",
      "source": [
        "# fill the missing values in train data\n",
        "train['Age'].fillna((train['Age'].mean()), inplace=True)\n",
        "train['No_of_orders_placed'].fillna((train['No_of_orders_placed'].mean()), inplace=True)\n",
        "train['Kid’s_Clothing'].fillna((train['Kid’s_Clothing'].mean()), inplace=True)\n",
        "train['Home_&_Living'].fillna((train['Home_&_Living'].mean()), inplace=True)"
      ],
      "metadata": {
        "id": "f8OlcRzDWcI8"
      },
      "execution_count": 15,
      "outputs": []
    },
    {
      "cell_type": "code",
      "source": [
        "# Checking missing values in train dataset\n",
        "\n",
        "test.isnull().sum()"
      ],
      "metadata": {
        "colab": {
          "base_uri": "https://localhost:8080/"
        },
        "id": "0c1EtpxwPP5l",
        "outputId": "897ff512-4786-4a17-e198-234fd6993368"
      },
      "execution_count": 18,
      "outputs": [
        {
          "output_type": "execute_result",
          "data": {
            "text/plain": [
              "CustomerID                0\n",
              "Age                       0\n",
              "Gender                    0\n",
              "City                      0\n",
              "State                     0\n",
              "No_of_orders_placed       0\n",
              "Sign_up_date              0\n",
              "Last_order_placed_date    0\n",
              "is_premium_member         0\n",
              "Women’s_Clothing          0\n",
              "Men’s_Clothing            0\n",
              "Kid’s_Clothing            0\n",
              "Home_&_Living             0\n",
              "Beauty                    0\n",
              "Electronics               0\n",
              "dtype: int64"
            ]
          },
          "metadata": {},
          "execution_count": 18
        }
      ]
    },
    {
      "cell_type": "code",
      "source": [
        "# fill the missing values in train data\n",
        "test['Age'].fillna((test['Age'].mean()), inplace=True)\n",
        "test['No_of_orders_placed'].fillna((test['No_of_orders_placed'].mean()), inplace=True)\n",
        "test['Kid’s_Clothing'].fillna((test['Kid’s_Clothing'].mean()), inplace=True)\n",
        "test['Home_&_Living'].fillna((test['Home_&_Living'].mean()), inplace=True)"
      ],
      "metadata": {
        "id": "UU4Tjf1PXHv2"
      },
      "execution_count": 16,
      "outputs": []
    },
    {
      "cell_type": "code",
      "source": [
        "# checking the shape of data\n",
        "train.shape,test.shape"
      ],
      "metadata": {
        "colab": {
          "base_uri": "https://localhost:8080/"
        },
        "id": "w13ut099Paek",
        "outputId": "2eeaec07-a8cc-4b02-d0c7-7f234f60b4b5"
      },
      "execution_count": 17,
      "outputs": [
        {
          "output_type": "execute_result",
          "data": {
            "text/plain": [
              "((15150, 16), (1850, 15))"
            ]
          },
          "metadata": {},
          "execution_count": 17
        }
      ]
    },
    {
      "cell_type": "code",
      "source": [
        "# summary of data\n",
        "\n",
        "train.describe()"
      ],
      "metadata": {
        "colab": {
          "base_uri": "https://localhost:8080/",
          "height": 364
        },
        "id": "xitGDvpLPtvv",
        "outputId": "267bc35c-6ba2-443d-a2a5-267749aa3bfc"
      },
      "execution_count": 9,
      "outputs": [
        {
          "output_type": "execute_result",
          "data": {
            "text/plain": [
              "                Age  No_of_orders_placed  is_premium_member  Women’s_Clothing  \\\n",
              "count  14147.000000         14377.000000       15150.000000      15150.000000   \n",
              "mean      28.356613             8.200876           0.323828          1.848024   \n",
              "std        7.563249             3.606418           0.467951         12.814344   \n",
              "min       15.000000             0.000000           0.000000        -99.000000   \n",
              "25%       22.000000             5.000000           0.000000          1.301135   \n",
              "50%       29.000000             8.000000           0.000000          3.305220   \n",
              "75%       33.000000            10.000000           1.000000          6.656113   \n",
              "max       50.000000            15.000000           1.000000          9.998061   \n",
              "\n",
              "       Men’s_Clothing  Kid’s_Clothing  Home_&_Living        Beauty  \\\n",
              "count    15150.000000    14215.000000   14302.000000  15150.000000   \n",
              "mean         4.464372        4.573373       4.576805      4.069482   \n",
              "std          2.979838        2.628990       2.380538      3.808290   \n",
              "min         -1.000000       -3.000000      -2.000000    -20.114294   \n",
              "25%          2.019508        2.602179       2.817589      1.135181   \n",
              "50%          3.603376        4.826021       4.338659      2.914518   \n",
              "75%          7.595931        6.482865       6.532475      7.634503   \n",
              "max          9.999751        9.997132       9.993163     26.564845   \n",
              "\n",
              "        Electronics  \n",
              "count  15150.000000  \n",
              "mean       2.830962  \n",
              "std       13.056017  \n",
              "min      -99.000000  \n",
              "25%        2.472861  \n",
              "50%        4.602270  \n",
              "75%        7.872561  \n",
              "max        9.999038  "
            ],
            "text/html": [
              "\n",
              "  <div id=\"df-9ea51664-f445-430f-8262-b9f2a218958d\">\n",
              "    <div class=\"colab-df-container\">\n",
              "      <div>\n",
              "<style scoped>\n",
              "    .dataframe tbody tr th:only-of-type {\n",
              "        vertical-align: middle;\n",
              "    }\n",
              "\n",
              "    .dataframe tbody tr th {\n",
              "        vertical-align: top;\n",
              "    }\n",
              "\n",
              "    .dataframe thead th {\n",
              "        text-align: right;\n",
              "    }\n",
              "</style>\n",
              "<table border=\"1\" class=\"dataframe\">\n",
              "  <thead>\n",
              "    <tr style=\"text-align: right;\">\n",
              "      <th></th>\n",
              "      <th>Age</th>\n",
              "      <th>No_of_orders_placed</th>\n",
              "      <th>is_premium_member</th>\n",
              "      <th>Women’s_Clothing</th>\n",
              "      <th>Men’s_Clothing</th>\n",
              "      <th>Kid’s_Clothing</th>\n",
              "      <th>Home_&amp;_Living</th>\n",
              "      <th>Beauty</th>\n",
              "      <th>Electronics</th>\n",
              "    </tr>\n",
              "  </thead>\n",
              "  <tbody>\n",
              "    <tr>\n",
              "      <th>count</th>\n",
              "      <td>14147.000000</td>\n",
              "      <td>14377.000000</td>\n",
              "      <td>15150.000000</td>\n",
              "      <td>15150.000000</td>\n",
              "      <td>15150.000000</td>\n",
              "      <td>14215.000000</td>\n",
              "      <td>14302.000000</td>\n",
              "      <td>15150.000000</td>\n",
              "      <td>15150.000000</td>\n",
              "    </tr>\n",
              "    <tr>\n",
              "      <th>mean</th>\n",
              "      <td>28.356613</td>\n",
              "      <td>8.200876</td>\n",
              "      <td>0.323828</td>\n",
              "      <td>1.848024</td>\n",
              "      <td>4.464372</td>\n",
              "      <td>4.573373</td>\n",
              "      <td>4.576805</td>\n",
              "      <td>4.069482</td>\n",
              "      <td>2.830962</td>\n",
              "    </tr>\n",
              "    <tr>\n",
              "      <th>std</th>\n",
              "      <td>7.563249</td>\n",
              "      <td>3.606418</td>\n",
              "      <td>0.467951</td>\n",
              "      <td>12.814344</td>\n",
              "      <td>2.979838</td>\n",
              "      <td>2.628990</td>\n",
              "      <td>2.380538</td>\n",
              "      <td>3.808290</td>\n",
              "      <td>13.056017</td>\n",
              "    </tr>\n",
              "    <tr>\n",
              "      <th>min</th>\n",
              "      <td>15.000000</td>\n",
              "      <td>0.000000</td>\n",
              "      <td>0.000000</td>\n",
              "      <td>-99.000000</td>\n",
              "      <td>-1.000000</td>\n",
              "      <td>-3.000000</td>\n",
              "      <td>-2.000000</td>\n",
              "      <td>-20.114294</td>\n",
              "      <td>-99.000000</td>\n",
              "    </tr>\n",
              "    <tr>\n",
              "      <th>25%</th>\n",
              "      <td>22.000000</td>\n",
              "      <td>5.000000</td>\n",
              "      <td>0.000000</td>\n",
              "      <td>1.301135</td>\n",
              "      <td>2.019508</td>\n",
              "      <td>2.602179</td>\n",
              "      <td>2.817589</td>\n",
              "      <td>1.135181</td>\n",
              "      <td>2.472861</td>\n",
              "    </tr>\n",
              "    <tr>\n",
              "      <th>50%</th>\n",
              "      <td>29.000000</td>\n",
              "      <td>8.000000</td>\n",
              "      <td>0.000000</td>\n",
              "      <td>3.305220</td>\n",
              "      <td>3.603376</td>\n",
              "      <td>4.826021</td>\n",
              "      <td>4.338659</td>\n",
              "      <td>2.914518</td>\n",
              "      <td>4.602270</td>\n",
              "    </tr>\n",
              "    <tr>\n",
              "      <th>75%</th>\n",
              "      <td>33.000000</td>\n",
              "      <td>10.000000</td>\n",
              "      <td>1.000000</td>\n",
              "      <td>6.656113</td>\n",
              "      <td>7.595931</td>\n",
              "      <td>6.482865</td>\n",
              "      <td>6.532475</td>\n",
              "      <td>7.634503</td>\n",
              "      <td>7.872561</td>\n",
              "    </tr>\n",
              "    <tr>\n",
              "      <th>max</th>\n",
              "      <td>50.000000</td>\n",
              "      <td>15.000000</td>\n",
              "      <td>1.000000</td>\n",
              "      <td>9.998061</td>\n",
              "      <td>9.999751</td>\n",
              "      <td>9.997132</td>\n",
              "      <td>9.993163</td>\n",
              "      <td>26.564845</td>\n",
              "      <td>9.999038</td>\n",
              "    </tr>\n",
              "  </tbody>\n",
              "</table>\n",
              "</div>\n",
              "      <button class=\"colab-df-convert\" onclick=\"convertToInteractive('df-9ea51664-f445-430f-8262-b9f2a218958d')\"\n",
              "              title=\"Convert this dataframe to an interactive table.\"\n",
              "              style=\"display:none;\">\n",
              "        \n",
              "  <svg xmlns=\"http://www.w3.org/2000/svg\" height=\"24px\"viewBox=\"0 0 24 24\"\n",
              "       width=\"24px\">\n",
              "    <path d=\"M0 0h24v24H0V0z\" fill=\"none\"/>\n",
              "    <path d=\"M18.56 5.44l.94 2.06.94-2.06 2.06-.94-2.06-.94-.94-2.06-.94 2.06-2.06.94zm-11 1L8.5 8.5l.94-2.06 2.06-.94-2.06-.94L8.5 2.5l-.94 2.06-2.06.94zm10 10l.94 2.06.94-2.06 2.06-.94-2.06-.94-.94-2.06-.94 2.06-2.06.94z\"/><path d=\"M17.41 7.96l-1.37-1.37c-.4-.4-.92-.59-1.43-.59-.52 0-1.04.2-1.43.59L10.3 9.45l-7.72 7.72c-.78.78-.78 2.05 0 2.83L4 21.41c.39.39.9.59 1.41.59.51 0 1.02-.2 1.41-.59l7.78-7.78 2.81-2.81c.8-.78.8-2.07 0-2.86zM5.41 20L4 18.59l7.72-7.72 1.47 1.35L5.41 20z\"/>\n",
              "  </svg>\n",
              "      </button>\n",
              "      \n",
              "  <style>\n",
              "    .colab-df-container {\n",
              "      display:flex;\n",
              "      flex-wrap:wrap;\n",
              "      gap: 12px;\n",
              "    }\n",
              "\n",
              "    .colab-df-convert {\n",
              "      background-color: #E8F0FE;\n",
              "      border: none;\n",
              "      border-radius: 50%;\n",
              "      cursor: pointer;\n",
              "      display: none;\n",
              "      fill: #1967D2;\n",
              "      height: 32px;\n",
              "      padding: 0 0 0 0;\n",
              "      width: 32px;\n",
              "    }\n",
              "\n",
              "    .colab-df-convert:hover {\n",
              "      background-color: #E2EBFA;\n",
              "      box-shadow: 0px 1px 2px rgba(60, 64, 67, 0.3), 0px 1px 3px 1px rgba(60, 64, 67, 0.15);\n",
              "      fill: #174EA6;\n",
              "    }\n",
              "\n",
              "    [theme=dark] .colab-df-convert {\n",
              "      background-color: #3B4455;\n",
              "      fill: #D2E3FC;\n",
              "    }\n",
              "\n",
              "    [theme=dark] .colab-df-convert:hover {\n",
              "      background-color: #434B5C;\n",
              "      box-shadow: 0px 1px 3px 1px rgba(0, 0, 0, 0.15);\n",
              "      filter: drop-shadow(0px 1px 2px rgba(0, 0, 0, 0.3));\n",
              "      fill: #FFFFFF;\n",
              "    }\n",
              "  </style>\n",
              "\n",
              "      <script>\n",
              "        const buttonEl =\n",
              "          document.querySelector('#df-9ea51664-f445-430f-8262-b9f2a218958d button.colab-df-convert');\n",
              "        buttonEl.style.display =\n",
              "          google.colab.kernel.accessAllowed ? 'block' : 'none';\n",
              "\n",
              "        async function convertToInteractive(key) {\n",
              "          const element = document.querySelector('#df-9ea51664-f445-430f-8262-b9f2a218958d');\n",
              "          const dataTable =\n",
              "            await google.colab.kernel.invokeFunction('convertToInteractive',\n",
              "                                                     [key], {});\n",
              "          if (!dataTable) return;\n",
              "\n",
              "          const docLinkHtml = 'Like what you see? Visit the ' +\n",
              "            '<a target=\"_blank\" href=https://colab.research.google.com/notebooks/data_table.ipynb>data table notebook</a>'\n",
              "            + ' to learn more about interactive tables.';\n",
              "          element.innerHTML = '';\n",
              "          dataTable['output_type'] = 'display_data';\n",
              "          await google.colab.output.renderOutput(dataTable, element);\n",
              "          const docLink = document.createElement('div');\n",
              "          docLink.innerHTML = docLinkHtml;\n",
              "          element.appendChild(docLink);\n",
              "        }\n",
              "      </script>\n",
              "    </div>\n",
              "  </div>\n",
              "  "
            ]
          },
          "metadata": {},
          "execution_count": 9
        }
      ]
    },
    {
      "cell_type": "code",
      "source": [
        "# summary of test data\n",
        "\n",
        "test.describe()"
      ],
      "metadata": {
        "colab": {
          "base_uri": "https://localhost:8080/",
          "height": 344
        },
        "id": "0XBFqsNLP5xd",
        "outputId": "a2fca94b-db7d-419e-e9d4-a6d5ae18da0b"
      },
      "execution_count": 10,
      "outputs": [
        {
          "output_type": "execute_result",
          "data": {
            "text/plain": [
              "               Age  No_of_orders_placed  is_premium_member  Women’s_Clothing  \\\n",
              "count  1819.000000          1778.000000        1850.000000       1850.000000   \n",
              "mean     29.272128             8.242407           0.340541          4.384352   \n",
              "std       8.187110             3.657581           0.474019          2.886372   \n",
              "min      15.000000             0.000000           0.000000         -2.000000   \n",
              "25%      23.000000             5.000000           0.000000          2.000000   \n",
              "50%      29.000000             8.000000           0.000000          3.739130   \n",
              "75%      34.000000            11.000000           1.000000          6.958571   \n",
              "max      50.000000            15.000000           1.000000          9.991346   \n",
              "\n",
              "       Men’s_Clothing  Kid’s_Clothing  Home_&_Living       Beauty  Electronics  \n",
              "count     1850.000000     1827.000000    1827.000000  1850.000000  1850.000000  \n",
              "mean         4.315254        4.945404       4.505756     4.174118     4.877670  \n",
              "std          2.948271        2.582262       2.643967     3.273865     2.904890  \n",
              "min         -1.000000       -2.000000      -1.000000    -1.000000    -2.000000  \n",
              "25%          2.000000        3.000000       2.276267     1.363882     2.348540  \n",
              "50%          3.646886        5.073131       4.313613     3.000000     4.632417  \n",
              "75%          6.929417        6.920714       6.631530     7.690696     7.533786  \n",
              "max          9.998916        9.995912       9.989994     9.999745     9.997705  "
            ],
            "text/html": [
              "\n",
              "  <div id=\"df-9e50bc0e-189e-4a30-96c9-20595cc8e49e\">\n",
              "    <div class=\"colab-df-container\">\n",
              "      <div>\n",
              "<style scoped>\n",
              "    .dataframe tbody tr th:only-of-type {\n",
              "        vertical-align: middle;\n",
              "    }\n",
              "\n",
              "    .dataframe tbody tr th {\n",
              "        vertical-align: top;\n",
              "    }\n",
              "\n",
              "    .dataframe thead th {\n",
              "        text-align: right;\n",
              "    }\n",
              "</style>\n",
              "<table border=\"1\" class=\"dataframe\">\n",
              "  <thead>\n",
              "    <tr style=\"text-align: right;\">\n",
              "      <th></th>\n",
              "      <th>Age</th>\n",
              "      <th>No_of_orders_placed</th>\n",
              "      <th>is_premium_member</th>\n",
              "      <th>Women’s_Clothing</th>\n",
              "      <th>Men’s_Clothing</th>\n",
              "      <th>Kid’s_Clothing</th>\n",
              "      <th>Home_&amp;_Living</th>\n",
              "      <th>Beauty</th>\n",
              "      <th>Electronics</th>\n",
              "    </tr>\n",
              "  </thead>\n",
              "  <tbody>\n",
              "    <tr>\n",
              "      <th>count</th>\n",
              "      <td>1819.000000</td>\n",
              "      <td>1778.000000</td>\n",
              "      <td>1850.000000</td>\n",
              "      <td>1850.000000</td>\n",
              "      <td>1850.000000</td>\n",
              "      <td>1827.000000</td>\n",
              "      <td>1827.000000</td>\n",
              "      <td>1850.000000</td>\n",
              "      <td>1850.000000</td>\n",
              "    </tr>\n",
              "    <tr>\n",
              "      <th>mean</th>\n",
              "      <td>29.272128</td>\n",
              "      <td>8.242407</td>\n",
              "      <td>0.340541</td>\n",
              "      <td>4.384352</td>\n",
              "      <td>4.315254</td>\n",
              "      <td>4.945404</td>\n",
              "      <td>4.505756</td>\n",
              "      <td>4.174118</td>\n",
              "      <td>4.877670</td>\n",
              "    </tr>\n",
              "    <tr>\n",
              "      <th>std</th>\n",
              "      <td>8.187110</td>\n",
              "      <td>3.657581</td>\n",
              "      <td>0.474019</td>\n",
              "      <td>2.886372</td>\n",
              "      <td>2.948271</td>\n",
              "      <td>2.582262</td>\n",
              "      <td>2.643967</td>\n",
              "      <td>3.273865</td>\n",
              "      <td>2.904890</td>\n",
              "    </tr>\n",
              "    <tr>\n",
              "      <th>min</th>\n",
              "      <td>15.000000</td>\n",
              "      <td>0.000000</td>\n",
              "      <td>0.000000</td>\n",
              "      <td>-2.000000</td>\n",
              "      <td>-1.000000</td>\n",
              "      <td>-2.000000</td>\n",
              "      <td>-1.000000</td>\n",
              "      <td>-1.000000</td>\n",
              "      <td>-2.000000</td>\n",
              "    </tr>\n",
              "    <tr>\n",
              "      <th>25%</th>\n",
              "      <td>23.000000</td>\n",
              "      <td>5.000000</td>\n",
              "      <td>0.000000</td>\n",
              "      <td>2.000000</td>\n",
              "      <td>2.000000</td>\n",
              "      <td>3.000000</td>\n",
              "      <td>2.276267</td>\n",
              "      <td>1.363882</td>\n",
              "      <td>2.348540</td>\n",
              "    </tr>\n",
              "    <tr>\n",
              "      <th>50%</th>\n",
              "      <td>29.000000</td>\n",
              "      <td>8.000000</td>\n",
              "      <td>0.000000</td>\n",
              "      <td>3.739130</td>\n",
              "      <td>3.646886</td>\n",
              "      <td>5.073131</td>\n",
              "      <td>4.313613</td>\n",
              "      <td>3.000000</td>\n",
              "      <td>4.632417</td>\n",
              "    </tr>\n",
              "    <tr>\n",
              "      <th>75%</th>\n",
              "      <td>34.000000</td>\n",
              "      <td>11.000000</td>\n",
              "      <td>1.000000</td>\n",
              "      <td>6.958571</td>\n",
              "      <td>6.929417</td>\n",
              "      <td>6.920714</td>\n",
              "      <td>6.631530</td>\n",
              "      <td>7.690696</td>\n",
              "      <td>7.533786</td>\n",
              "    </tr>\n",
              "    <tr>\n",
              "      <th>max</th>\n",
              "      <td>50.000000</td>\n",
              "      <td>15.000000</td>\n",
              "      <td>1.000000</td>\n",
              "      <td>9.991346</td>\n",
              "      <td>9.998916</td>\n",
              "      <td>9.995912</td>\n",
              "      <td>9.989994</td>\n",
              "      <td>9.999745</td>\n",
              "      <td>9.997705</td>\n",
              "    </tr>\n",
              "  </tbody>\n",
              "</table>\n",
              "</div>\n",
              "      <button class=\"colab-df-convert\" onclick=\"convertToInteractive('df-9e50bc0e-189e-4a30-96c9-20595cc8e49e')\"\n",
              "              title=\"Convert this dataframe to an interactive table.\"\n",
              "              style=\"display:none;\">\n",
              "        \n",
              "  <svg xmlns=\"http://www.w3.org/2000/svg\" height=\"24px\"viewBox=\"0 0 24 24\"\n",
              "       width=\"24px\">\n",
              "    <path d=\"M0 0h24v24H0V0z\" fill=\"none\"/>\n",
              "    <path d=\"M18.56 5.44l.94 2.06.94-2.06 2.06-.94-2.06-.94-.94-2.06-.94 2.06-2.06.94zm-11 1L8.5 8.5l.94-2.06 2.06-.94-2.06-.94L8.5 2.5l-.94 2.06-2.06.94zm10 10l.94 2.06.94-2.06 2.06-.94-2.06-.94-.94-2.06-.94 2.06-2.06.94z\"/><path d=\"M17.41 7.96l-1.37-1.37c-.4-.4-.92-.59-1.43-.59-.52 0-1.04.2-1.43.59L10.3 9.45l-7.72 7.72c-.78.78-.78 2.05 0 2.83L4 21.41c.39.39.9.59 1.41.59.51 0 1.02-.2 1.41-.59l7.78-7.78 2.81-2.81c.8-.78.8-2.07 0-2.86zM5.41 20L4 18.59l7.72-7.72 1.47 1.35L5.41 20z\"/>\n",
              "  </svg>\n",
              "      </button>\n",
              "      \n",
              "  <style>\n",
              "    .colab-df-container {\n",
              "      display:flex;\n",
              "      flex-wrap:wrap;\n",
              "      gap: 12px;\n",
              "    }\n",
              "\n",
              "    .colab-df-convert {\n",
              "      background-color: #E8F0FE;\n",
              "      border: none;\n",
              "      border-radius: 50%;\n",
              "      cursor: pointer;\n",
              "      display: none;\n",
              "      fill: #1967D2;\n",
              "      height: 32px;\n",
              "      padding: 0 0 0 0;\n",
              "      width: 32px;\n",
              "    }\n",
              "\n",
              "    .colab-df-convert:hover {\n",
              "      background-color: #E2EBFA;\n",
              "      box-shadow: 0px 1px 2px rgba(60, 64, 67, 0.3), 0px 1px 3px 1px rgba(60, 64, 67, 0.15);\n",
              "      fill: #174EA6;\n",
              "    }\n",
              "\n",
              "    [theme=dark] .colab-df-convert {\n",
              "      background-color: #3B4455;\n",
              "      fill: #D2E3FC;\n",
              "    }\n",
              "\n",
              "    [theme=dark] .colab-df-convert:hover {\n",
              "      background-color: #434B5C;\n",
              "      box-shadow: 0px 1px 3px 1px rgba(0, 0, 0, 0.15);\n",
              "      filter: drop-shadow(0px 1px 2px rgba(0, 0, 0, 0.3));\n",
              "      fill: #FFFFFF;\n",
              "    }\n",
              "  </style>\n",
              "\n",
              "      <script>\n",
              "        const buttonEl =\n",
              "          document.querySelector('#df-9e50bc0e-189e-4a30-96c9-20595cc8e49e button.colab-df-convert');\n",
              "        buttonEl.style.display =\n",
              "          google.colab.kernel.accessAllowed ? 'block' : 'none';\n",
              "\n",
              "        async function convertToInteractive(key) {\n",
              "          const element = document.querySelector('#df-9e50bc0e-189e-4a30-96c9-20595cc8e49e');\n",
              "          const dataTable =\n",
              "            await google.colab.kernel.invokeFunction('convertToInteractive',\n",
              "                                                     [key], {});\n",
              "          if (!dataTable) return;\n",
              "\n",
              "          const docLinkHtml = 'Like what you see? Visit the ' +\n",
              "            '<a target=\"_blank\" href=https://colab.research.google.com/notebooks/data_table.ipynb>data table notebook</a>'\n",
              "            + ' to learn more about interactive tables.';\n",
              "          element.innerHTML = '';\n",
              "          dataTable['output_type'] = 'display_data';\n",
              "          await google.colab.output.renderOutput(dataTable, element);\n",
              "          const docLink = document.createElement('div');\n",
              "          docLink.innerHTML = docLinkHtml;\n",
              "          element.appendChild(docLink);\n",
              "        }\n",
              "      </script>\n",
              "    </div>\n",
              "  </div>\n",
              "  "
            ]
          },
          "metadata": {},
          "execution_count": 10
        }
      ]
    },
    {
      "cell_type": "code",
      "source": [
        "train.info()"
      ],
      "metadata": {
        "colab": {
          "base_uri": "https://localhost:8080/"
        },
        "id": "6l2LykKQQECZ",
        "outputId": "f2a46c9b-4059-446f-f461-27587a9066cf"
      },
      "execution_count": 11,
      "outputs": [
        {
          "output_type": "stream",
          "name": "stdout",
          "text": [
            "<class 'pandas.core.frame.DataFrame'>\n",
            "RangeIndex: 15150 entries, 0 to 15149\n",
            "Data columns (total 16 columns):\n",
            " #   Column                  Non-Null Count  Dtype  \n",
            "---  ------                  --------------  -----  \n",
            " 0   CustomerID              15150 non-null  object \n",
            " 1   Age                     14147 non-null  float64\n",
            " 2   Gender                  15150 non-null  object \n",
            " 3   City                    15150 non-null  object \n",
            " 4   State                   15150 non-null  object \n",
            " 5   No_of_orders_placed     14377 non-null  float64\n",
            " 6   Sign_up_date            15150 non-null  object \n",
            " 7   Last_order_placed_date  15150 non-null  object \n",
            " 8   is_premium_member       15150 non-null  int64  \n",
            " 9   Women’s_Clothing        15150 non-null  float64\n",
            " 10  Men’s_Clothing          15150 non-null  float64\n",
            " 11  Kid’s_Clothing          14215 non-null  float64\n",
            " 12  Home_&_Living           14302 non-null  float64\n",
            " 13  Beauty                  15150 non-null  float64\n",
            " 14  Electronics             15150 non-null  float64\n",
            " 15  Preferred_Theme         15150 non-null  object \n",
            "dtypes: float64(8), int64(1), object(7)\n",
            "memory usage: 1.8+ MB\n"
          ]
        }
      ]
    },
    {
      "cell_type": "code",
      "source": [
        "test.info()"
      ],
      "metadata": {
        "colab": {
          "base_uri": "https://localhost:8080/"
        },
        "id": "-vnVqdMmQNPY",
        "outputId": "d923d33e-566b-4f81-ec26-62755076d7a7"
      },
      "execution_count": 12,
      "outputs": [
        {
          "output_type": "stream",
          "name": "stdout",
          "text": [
            "<class 'pandas.core.frame.DataFrame'>\n",
            "RangeIndex: 1850 entries, 0 to 1849\n",
            "Data columns (total 15 columns):\n",
            " #   Column                  Non-Null Count  Dtype  \n",
            "---  ------                  --------------  -----  \n",
            " 0   CustomerID              1850 non-null   object \n",
            " 1   Age                     1819 non-null   float64\n",
            " 2   Gender                  1850 non-null   object \n",
            " 3   City                    1850 non-null   object \n",
            " 4   State                   1850 non-null   object \n",
            " 5   No_of_orders_placed     1778 non-null   float64\n",
            " 6   Sign_up_date            1850 non-null   object \n",
            " 7   Last_order_placed_date  1850 non-null   object \n",
            " 8   is_premium_member       1850 non-null   int64  \n",
            " 9   Women’s_Clothing        1850 non-null   float64\n",
            " 10  Men’s_Clothing          1850 non-null   float64\n",
            " 11  Kid’s_Clothing          1827 non-null   float64\n",
            " 12  Home_&_Living           1827 non-null   float64\n",
            " 13  Beauty                  1850 non-null   float64\n",
            " 14  Electronics             1850 non-null   float64\n",
            "dtypes: float64(8), int64(1), object(6)\n",
            "memory usage: 216.9+ KB\n"
          ]
        }
      ]
    },
    {
      "cell_type": "code",
      "source": [
        "# checking the unique values in train dataset\n",
        "\n",
        "train.nunique()"
      ],
      "metadata": {
        "colab": {
          "base_uri": "https://localhost:8080/"
        },
        "id": "GB8ee6YPQTpB",
        "outputId": "eee945a5-ca37-4a63-d790-9019e21102df"
      },
      "execution_count": 13,
      "outputs": [
        {
          "output_type": "execute_result",
          "data": {
            "text/plain": [
              "CustomerID                 8150\n",
              "Age                          36\n",
              "Gender                        3\n",
              "City                         23\n",
              "State                        21\n",
              "No_of_orders_placed          16\n",
              "Sign_up_date               1455\n",
              "Last_order_placed_date      670\n",
              "is_premium_member             2\n",
              "Women’s_Clothing          13656\n",
              "Men’s_Clothing            13959\n",
              "Kid’s_Clothing            13463\n",
              "Home_&_Living             13645\n",
              "Beauty                    13618\n",
              "Electronics               13545\n",
              "Preferred_Theme               2\n",
              "dtype: int64"
            ]
          },
          "metadata": {},
          "execution_count": 13
        }
      ]
    },
    {
      "cell_type": "code",
      "source": [
        "# checking the unique values in train dataset\n",
        "\n",
        "test.nunique()"
      ],
      "metadata": {
        "colab": {
          "base_uri": "https://localhost:8080/"
        },
        "id": "YueYOnalQdRR",
        "outputId": "dc11a742-0550-4e94-94a2-5f3e5229ef7b"
      },
      "execution_count": 14,
      "outputs": [
        {
          "output_type": "execute_result",
          "data": {
            "text/plain": [
              "CustomerID                1850\n",
              "Age                         36\n",
              "Gender                       3\n",
              "City                        23\n",
              "State                       21\n",
              "No_of_orders_placed         16\n",
              "Sign_up_date              1037\n",
              "Last_order_placed_date     630\n",
              "is_premium_member            2\n",
              "Women’s_Clothing          1632\n",
              "Men’s_Clothing            1608\n",
              "Kid’s_Clothing            1651\n",
              "Home_&_Living             1647\n",
              "Beauty                    1452\n",
              "Electronics               1628\n",
              "dtype: int64"
            ]
          },
          "metadata": {},
          "execution_count": 14
        }
      ]
    },
    {
      "cell_type": "markdown",
      "source": [
        "# EDA"
      ],
      "metadata": {
        "id": "2K1RotoCXiS1"
      }
    },
    {
      "cell_type": "code",
      "source": [
        "# count of Preferred_Theme\n",
        "print(train.Preferred_Theme.value_counts(normalize = True))\n",
        "print(train.Preferred_Theme.value_counts())"
      ],
      "metadata": {
        "colab": {
          "base_uri": "https://localhost:8080/"
        },
        "id": "V1wawNfRQ4ZO",
        "outputId": "3ca6f0f5-4f48-44ac-d1fd-fe689a3d5570"
      },
      "execution_count": 23,
      "outputs": [
        {
          "output_type": "stream",
          "name": "stdout",
          "text": [
            "New_UI    0.506535\n",
            "Old_UI    0.493465\n",
            "Name: Preferred_Theme, dtype: float64\n",
            "New_UI    7674\n",
            "Old_UI    7476\n",
            "Name: Preferred_Theme, dtype: int64\n"
          ]
        }
      ]
    },
    {
      "cell_type": "code",
      "source": [
        "type_ = [\"New_UI\", \"Old_UI\"]\n",
        "fig = make_subplots(rows=1, cols=1)\n",
        "\n",
        "fig.add_trace(go.Pie(labels=type_, values=train['Preferred_Theme'].value_counts(), name=\"Preferred_Theme\"))\n",
        "\n",
        "# Use `hole` to create a donut-like pie chart\n",
        "fig.update_traces(hole=.4, hoverinfo=\"label+percent+name\", textfont_size=16)\n",
        "\n",
        "fig.update_layout(\n",
        "    title_text=\"theme\",\n",
        "    # Add annotations in the center of the donut pies.\n",
        "    annotations=[dict(text='Preferred_Theme', x=0.5, y=0.5, font_size=20, showarrow=False)])\n",
        "fig.show()"
      ],
      "metadata": {
        "colab": {
          "base_uri": "https://localhost:8080/",
          "height": 542
        },
        "id": "2GL9mG0bgbXX",
        "outputId": "e8f41efe-f6b9-40a3-b94f-2791e4a1d6a2"
      },
      "execution_count": 25,
      "outputs": [
        {
          "output_type": "display_data",
          "data": {
            "text/html": [
              "<html>\n",
              "<head><meta charset=\"utf-8\" /></head>\n",
              "<body>\n",
              "    <div>            <script src=\"https://cdnjs.cloudflare.com/ajax/libs/mathjax/2.7.5/MathJax.js?config=TeX-AMS-MML_SVG\"></script><script type=\"text/javascript\">if (window.MathJax) {MathJax.Hub.Config({SVG: {font: \"STIX-Web\"}});}</script>                <script type=\"text/javascript\">window.PlotlyConfig = {MathJaxConfig: 'local'};</script>\n",
              "        <script src=\"https://cdn.plot.ly/plotly-2.8.3.min.js\"></script>                <div id=\"82e844f9-e670-4d88-911c-bf75081baf66\" class=\"plotly-graph-div\" style=\"height:525px; width:100%;\"></div>            <script type=\"text/javascript\">                                    window.PLOTLYENV=window.PLOTLYENV || {};                                    if (document.getElementById(\"82e844f9-e670-4d88-911c-bf75081baf66\")) {                    Plotly.newPlot(                        \"82e844f9-e670-4d88-911c-bf75081baf66\",                        [{\"labels\":[\"New_UI\",\"Old_UI\"],\"name\":\"Preferred_Theme\",\"values\":[7674,7476],\"type\":\"pie\",\"textfont\":{\"size\":16},\"hole\":0.4,\"hoverinfo\":\"label+percent+name\"}],                        {\"template\":{\"data\":{\"bar\":[{\"error_x\":{\"color\":\"#2a3f5f\"},\"error_y\":{\"color\":\"#2a3f5f\"},\"marker\":{\"line\":{\"color\":\"#E5ECF6\",\"width\":0.5},\"pattern\":{\"fillmode\":\"overlay\",\"size\":10,\"solidity\":0.2}},\"type\":\"bar\"}],\"barpolar\":[{\"marker\":{\"line\":{\"color\":\"#E5ECF6\",\"width\":0.5},\"pattern\":{\"fillmode\":\"overlay\",\"size\":10,\"solidity\":0.2}},\"type\":\"barpolar\"}],\"carpet\":[{\"aaxis\":{\"endlinecolor\":\"#2a3f5f\",\"gridcolor\":\"white\",\"linecolor\":\"white\",\"minorgridcolor\":\"white\",\"startlinecolor\":\"#2a3f5f\"},\"baxis\":{\"endlinecolor\":\"#2a3f5f\",\"gridcolor\":\"white\",\"linecolor\":\"white\",\"minorgridcolor\":\"white\",\"startlinecolor\":\"#2a3f5f\"},\"type\":\"carpet\"}],\"choropleth\":[{\"colorbar\":{\"outlinewidth\":0,\"ticks\":\"\"},\"type\":\"choropleth\"}],\"contour\":[{\"colorbar\":{\"outlinewidth\":0,\"ticks\":\"\"},\"colorscale\":[[0.0,\"#0d0887\"],[0.1111111111111111,\"#46039f\"],[0.2222222222222222,\"#7201a8\"],[0.3333333333333333,\"#9c179e\"],[0.4444444444444444,\"#bd3786\"],[0.5555555555555556,\"#d8576b\"],[0.6666666666666666,\"#ed7953\"],[0.7777777777777778,\"#fb9f3a\"],[0.8888888888888888,\"#fdca26\"],[1.0,\"#f0f921\"]],\"type\":\"contour\"}],\"contourcarpet\":[{\"colorbar\":{\"outlinewidth\":0,\"ticks\":\"\"},\"type\":\"contourcarpet\"}],\"heatmap\":[{\"colorbar\":{\"outlinewidth\":0,\"ticks\":\"\"},\"colorscale\":[[0.0,\"#0d0887\"],[0.1111111111111111,\"#46039f\"],[0.2222222222222222,\"#7201a8\"],[0.3333333333333333,\"#9c179e\"],[0.4444444444444444,\"#bd3786\"],[0.5555555555555556,\"#d8576b\"],[0.6666666666666666,\"#ed7953\"],[0.7777777777777778,\"#fb9f3a\"],[0.8888888888888888,\"#fdca26\"],[1.0,\"#f0f921\"]],\"type\":\"heatmap\"}],\"heatmapgl\":[{\"colorbar\":{\"outlinewidth\":0,\"ticks\":\"\"},\"colorscale\":[[0.0,\"#0d0887\"],[0.1111111111111111,\"#46039f\"],[0.2222222222222222,\"#7201a8\"],[0.3333333333333333,\"#9c179e\"],[0.4444444444444444,\"#bd3786\"],[0.5555555555555556,\"#d8576b\"],[0.6666666666666666,\"#ed7953\"],[0.7777777777777778,\"#fb9f3a\"],[0.8888888888888888,\"#fdca26\"],[1.0,\"#f0f921\"]],\"type\":\"heatmapgl\"}],\"histogram\":[{\"marker\":{\"pattern\":{\"fillmode\":\"overlay\",\"size\":10,\"solidity\":0.2}},\"type\":\"histogram\"}],\"histogram2d\":[{\"colorbar\":{\"outlinewidth\":0,\"ticks\":\"\"},\"colorscale\":[[0.0,\"#0d0887\"],[0.1111111111111111,\"#46039f\"],[0.2222222222222222,\"#7201a8\"],[0.3333333333333333,\"#9c179e\"],[0.4444444444444444,\"#bd3786\"],[0.5555555555555556,\"#d8576b\"],[0.6666666666666666,\"#ed7953\"],[0.7777777777777778,\"#fb9f3a\"],[0.8888888888888888,\"#fdca26\"],[1.0,\"#f0f921\"]],\"type\":\"histogram2d\"}],\"histogram2dcontour\":[{\"colorbar\":{\"outlinewidth\":0,\"ticks\":\"\"},\"colorscale\":[[0.0,\"#0d0887\"],[0.1111111111111111,\"#46039f\"],[0.2222222222222222,\"#7201a8\"],[0.3333333333333333,\"#9c179e\"],[0.4444444444444444,\"#bd3786\"],[0.5555555555555556,\"#d8576b\"],[0.6666666666666666,\"#ed7953\"],[0.7777777777777778,\"#fb9f3a\"],[0.8888888888888888,\"#fdca26\"],[1.0,\"#f0f921\"]],\"type\":\"histogram2dcontour\"}],\"mesh3d\":[{\"colorbar\":{\"outlinewidth\":0,\"ticks\":\"\"},\"type\":\"mesh3d\"}],\"parcoords\":[{\"line\":{\"colorbar\":{\"outlinewidth\":0,\"ticks\":\"\"}},\"type\":\"parcoords\"}],\"pie\":[{\"automargin\":true,\"type\":\"pie\"}],\"scatter\":[{\"marker\":{\"colorbar\":{\"outlinewidth\":0,\"ticks\":\"\"}},\"type\":\"scatter\"}],\"scatter3d\":[{\"line\":{\"colorbar\":{\"outlinewidth\":0,\"ticks\":\"\"}},\"marker\":{\"colorbar\":{\"outlinewidth\":0,\"ticks\":\"\"}},\"type\":\"scatter3d\"}],\"scattercarpet\":[{\"marker\":{\"colorbar\":{\"outlinewidth\":0,\"ticks\":\"\"}},\"type\":\"scattercarpet\"}],\"scattergeo\":[{\"marker\":{\"colorbar\":{\"outlinewidth\":0,\"ticks\":\"\"}},\"type\":\"scattergeo\"}],\"scattergl\":[{\"marker\":{\"colorbar\":{\"outlinewidth\":0,\"ticks\":\"\"}},\"type\":\"scattergl\"}],\"scattermapbox\":[{\"marker\":{\"colorbar\":{\"outlinewidth\":0,\"ticks\":\"\"}},\"type\":\"scattermapbox\"}],\"scatterpolar\":[{\"marker\":{\"colorbar\":{\"outlinewidth\":0,\"ticks\":\"\"}},\"type\":\"scatterpolar\"}],\"scatterpolargl\":[{\"marker\":{\"colorbar\":{\"outlinewidth\":0,\"ticks\":\"\"}},\"type\":\"scatterpolargl\"}],\"scatterternary\":[{\"marker\":{\"colorbar\":{\"outlinewidth\":0,\"ticks\":\"\"}},\"type\":\"scatterternary\"}],\"surface\":[{\"colorbar\":{\"outlinewidth\":0,\"ticks\":\"\"},\"colorscale\":[[0.0,\"#0d0887\"],[0.1111111111111111,\"#46039f\"],[0.2222222222222222,\"#7201a8\"],[0.3333333333333333,\"#9c179e\"],[0.4444444444444444,\"#bd3786\"],[0.5555555555555556,\"#d8576b\"],[0.6666666666666666,\"#ed7953\"],[0.7777777777777778,\"#fb9f3a\"],[0.8888888888888888,\"#fdca26\"],[1.0,\"#f0f921\"]],\"type\":\"surface\"}],\"table\":[{\"cells\":{\"fill\":{\"color\":\"#EBF0F8\"},\"line\":{\"color\":\"white\"}},\"header\":{\"fill\":{\"color\":\"#C8D4E3\"},\"line\":{\"color\":\"white\"}},\"type\":\"table\"}]},\"layout\":{\"annotationdefaults\":{\"arrowcolor\":\"#2a3f5f\",\"arrowhead\":0,\"arrowwidth\":1},\"autotypenumbers\":\"strict\",\"coloraxis\":{\"colorbar\":{\"outlinewidth\":0,\"ticks\":\"\"}},\"colorscale\":{\"diverging\":[[0,\"#8e0152\"],[0.1,\"#c51b7d\"],[0.2,\"#de77ae\"],[0.3,\"#f1b6da\"],[0.4,\"#fde0ef\"],[0.5,\"#f7f7f7\"],[0.6,\"#e6f5d0\"],[0.7,\"#b8e186\"],[0.8,\"#7fbc41\"],[0.9,\"#4d9221\"],[1,\"#276419\"]],\"sequential\":[[0.0,\"#0d0887\"],[0.1111111111111111,\"#46039f\"],[0.2222222222222222,\"#7201a8\"],[0.3333333333333333,\"#9c179e\"],[0.4444444444444444,\"#bd3786\"],[0.5555555555555556,\"#d8576b\"],[0.6666666666666666,\"#ed7953\"],[0.7777777777777778,\"#fb9f3a\"],[0.8888888888888888,\"#fdca26\"],[1.0,\"#f0f921\"]],\"sequentialminus\":[[0.0,\"#0d0887\"],[0.1111111111111111,\"#46039f\"],[0.2222222222222222,\"#7201a8\"],[0.3333333333333333,\"#9c179e\"],[0.4444444444444444,\"#bd3786\"],[0.5555555555555556,\"#d8576b\"],[0.6666666666666666,\"#ed7953\"],[0.7777777777777778,\"#fb9f3a\"],[0.8888888888888888,\"#fdca26\"],[1.0,\"#f0f921\"]]},\"colorway\":[\"#636efa\",\"#EF553B\",\"#00cc96\",\"#ab63fa\",\"#FFA15A\",\"#19d3f3\",\"#FF6692\",\"#B6E880\",\"#FF97FF\",\"#FECB52\"],\"font\":{\"color\":\"#2a3f5f\"},\"geo\":{\"bgcolor\":\"white\",\"lakecolor\":\"white\",\"landcolor\":\"#E5ECF6\",\"showlakes\":true,\"showland\":true,\"subunitcolor\":\"white\"},\"hoverlabel\":{\"align\":\"left\"},\"hovermode\":\"closest\",\"mapbox\":{\"style\":\"light\"},\"paper_bgcolor\":\"white\",\"plot_bgcolor\":\"#E5ECF6\",\"polar\":{\"angularaxis\":{\"gridcolor\":\"white\",\"linecolor\":\"white\",\"ticks\":\"\"},\"bgcolor\":\"#E5ECF6\",\"radialaxis\":{\"gridcolor\":\"white\",\"linecolor\":\"white\",\"ticks\":\"\"}},\"scene\":{\"xaxis\":{\"backgroundcolor\":\"#E5ECF6\",\"gridcolor\":\"white\",\"gridwidth\":2,\"linecolor\":\"white\",\"showbackground\":true,\"ticks\":\"\",\"zerolinecolor\":\"white\"},\"yaxis\":{\"backgroundcolor\":\"#E5ECF6\",\"gridcolor\":\"white\",\"gridwidth\":2,\"linecolor\":\"white\",\"showbackground\":true,\"ticks\":\"\",\"zerolinecolor\":\"white\"},\"zaxis\":{\"backgroundcolor\":\"#E5ECF6\",\"gridcolor\":\"white\",\"gridwidth\":2,\"linecolor\":\"white\",\"showbackground\":true,\"ticks\":\"\",\"zerolinecolor\":\"white\"}},\"shapedefaults\":{\"line\":{\"color\":\"#2a3f5f\"}},\"ternary\":{\"aaxis\":{\"gridcolor\":\"white\",\"linecolor\":\"white\",\"ticks\":\"\"},\"baxis\":{\"gridcolor\":\"white\",\"linecolor\":\"white\",\"ticks\":\"\"},\"bgcolor\":\"#E5ECF6\",\"caxis\":{\"gridcolor\":\"white\",\"linecolor\":\"white\",\"ticks\":\"\"}},\"title\":{\"x\":0.05},\"xaxis\":{\"automargin\":true,\"gridcolor\":\"white\",\"linecolor\":\"white\",\"ticks\":\"\",\"title\":{\"standoff\":15},\"zerolinecolor\":\"white\",\"zerolinewidth\":2},\"yaxis\":{\"automargin\":true,\"gridcolor\":\"white\",\"linecolor\":\"white\",\"ticks\":\"\",\"title\":{\"standoff\":15},\"zerolinecolor\":\"white\",\"zerolinewidth\":2}}},\"xaxis\":{\"anchor\":\"y\",\"domain\":[0.0,1.0]},\"yaxis\":{\"anchor\":\"x\",\"domain\":[0.0,1.0]},\"title\":{\"text\":\"theme\"},\"annotations\":[{\"showarrow\":false,\"text\":\"Preferred_Theme\",\"x\":0.5,\"y\":0.5,\"font\":{\"size\":20}}]},                        {\"responsive\": true}                    ).then(function(){\n",
              "                            \n",
              "var gd = document.getElementById('82e844f9-e670-4d88-911c-bf75081baf66');\n",
              "var x = new MutationObserver(function (mutations, observer) {{\n",
              "        var display = window.getComputedStyle(gd).display;\n",
              "        if (!display || display === 'none') {{\n",
              "            console.log([gd, 'removed!']);\n",
              "            Plotly.purge(gd);\n",
              "            observer.disconnect();\n",
              "        }}\n",
              "}});\n",
              "\n",
              "// Listen for the removal of the full notebook cells\n",
              "var notebookContainer = gd.closest('#notebook-container');\n",
              "if (notebookContainer) {{\n",
              "    x.observe(notebookContainer, {childList: true});\n",
              "}}\n",
              "\n",
              "// Listen for the clearing of the current output cell\n",
              "var outputEl = gd.closest('.output');\n",
              "if (outputEl) {{\n",
              "    x.observe(outputEl, {childList: true});\n",
              "}}\n",
              "\n",
              "                        })                };                            </script>        </div>\n",
              "</body>\n",
              "</html>"
            ]
          },
          "metadata": {}
        }
      ]
    },
    {
      "cell_type": "code",
      "source": [
        "train.Preferred_Theme[train.Preferred_Theme == \"New_UI\"].groupby(by = train.Gender).count()"
      ],
      "metadata": {
        "colab": {
          "base_uri": "https://localhost:8080/"
        },
        "id": "UIC_bx-Eh0ep",
        "outputId": "0fe9c916-b0a7-46f6-e1d6-98f88c13f972"
      },
      "execution_count": 26,
      "outputs": [
        {
          "output_type": "execute_result",
          "data": {
            "text/plain": [
              "Gender\n",
              "Female           2251\n",
              "Male             4585\n",
              "Not_Specified     838\n",
              "Name: Preferred_Theme, dtype: int64"
            ]
          },
          "metadata": {},
          "execution_count": 26
        }
      ]
    },
    {
      "cell_type": "code",
      "source": [
        "train.Preferred_Theme[train.Preferred_Theme == \"Old_UI\"].groupby(by = train.Gender).count()"
      ],
      "metadata": {
        "colab": {
          "base_uri": "https://localhost:8080/"
        },
        "id": "13udTcBKiqbj",
        "outputId": "4770a2a4-00e3-4d9b-c1ab-fe710ed6f815"
      },
      "execution_count": 27,
      "outputs": [
        {
          "output_type": "execute_result",
          "data": {
            "text/plain": [
              "Gender\n",
              "Female           4077\n",
              "Male             2023\n",
              "Not_Specified    1376\n",
              "Name: Preferred_Theme, dtype: int64"
            ]
          },
          "metadata": {},
          "execution_count": 27
        }
      ]
    },
    {
      "cell_type": "markdown",
      "source": [
        "Modelling Part\n"
      ],
      "metadata": {
        "id": "JXG3xJURlrYe"
      }
    },
    {
      "cell_type": "code",
      "source": [
        "# removing irrelevent colums\n",
        "train = train.drop(columns = ['CustomerID','State','Sign_up_date','Last_order_placed_date'])\n",
        "test = test.drop(columns = ['CustomerID','State','Sign_up_date','Last_order_placed_date'])"
      ],
      "metadata": {
        "id": "km_nRBIelJPc"
      },
      "execution_count": 30,
      "outputs": []
    },
    {
      "cell_type": "code",
      "source": [
        "# One hot encoding\n",
        "train = pd.get_dummies(train, columns = ['Gender','City'],prefix = '',prefix_sep = '')\n",
        "test = pd.get_dummies(test, columns = ['Gender','City'],prefix = '',prefix_sep = '')"
      ],
      "metadata": {
        "id": "wUiw0ij1mbSW"
      },
      "execution_count": 31,
      "outputs": []
    },
    {
      "cell_type": "code",
      "source": [
        "train.head()"
      ],
      "metadata": {
        "colab": {
          "base_uri": "https://localhost:8080/",
          "height": 334
        },
        "id": "3EOb89O0oAsA",
        "outputId": "b1148c26-2751-4b83-d0e2-4573527144e8"
      },
      "execution_count": 32,
      "outputs": [
        {
          "output_type": "execute_result",
          "data": {
            "text/plain": [
              "         Age  No_of_orders_placed  is_premium_member  Women’s_Clothing  \\\n",
              "0  22.000000             4.000000                  0          2.945701   \n",
              "1  28.356613             9.000000                  0          6.115229   \n",
              "2  26.000000             8.200876                  0          1.000000   \n",
              "3  28.356613             7.000000                  0          2.116475   \n",
              "4  29.000000             8.200876                  0          7.352878   \n",
              "\n",
              "   Men’s_Clothing  Kid’s_Clothing  Home_&_Living    Beauty  Electronics  \\\n",
              "0        8.924431        2.000000       2.325376  1.924891     9.820254   \n",
              "1        2.363926        6.968752       7.355854  8.561461     2.162229   \n",
              "2        3.000000        1.766530       3.471802  0.808147     9.055563   \n",
              "3        9.064060        5.387599       4.576805  0.459090     7.343461   \n",
              "4        1.995744        2.676853       7.159554  8.184695     2.000000   \n",
              "\n",
              "  Preferred_Theme  ...  New York City  Paris  Perth  San Francisco  Shinjuku  \\\n",
              "0          New_UI  ...              0      0      0              0         0   \n",
              "1          Old_UI  ...              0      0      0              0         0   \n",
              "2          New_UI  ...              0      0      0              0         0   \n",
              "3          New_UI  ...              0      0      0              1         0   \n",
              "4          Old_UI  ...              0      0      0              0         0   \n",
              "\n",
              "   Sydney  Taipei  Toronto  Vancouver  Vienna  \n",
              "0       0       0        0          1       0  \n",
              "1       0       0        0          0       0  \n",
              "2       0       0        0          0       0  \n",
              "3       0       0        0          0       0  \n",
              "4       0       1        0          0       0  \n",
              "\n",
              "[5 rows x 36 columns]"
            ],
            "text/html": [
              "\n",
              "  <div id=\"df-da0ffcb7-6e2b-4703-9c2c-cb2d34f5adfb\">\n",
              "    <div class=\"colab-df-container\">\n",
              "      <div>\n",
              "<style scoped>\n",
              "    .dataframe tbody tr th:only-of-type {\n",
              "        vertical-align: middle;\n",
              "    }\n",
              "\n",
              "    .dataframe tbody tr th {\n",
              "        vertical-align: top;\n",
              "    }\n",
              "\n",
              "    .dataframe thead th {\n",
              "        text-align: right;\n",
              "    }\n",
              "</style>\n",
              "<table border=\"1\" class=\"dataframe\">\n",
              "  <thead>\n",
              "    <tr style=\"text-align: right;\">\n",
              "      <th></th>\n",
              "      <th>Age</th>\n",
              "      <th>No_of_orders_placed</th>\n",
              "      <th>is_premium_member</th>\n",
              "      <th>Women’s_Clothing</th>\n",
              "      <th>Men’s_Clothing</th>\n",
              "      <th>Kid’s_Clothing</th>\n",
              "      <th>Home_&amp;_Living</th>\n",
              "      <th>Beauty</th>\n",
              "      <th>Electronics</th>\n",
              "      <th>Preferred_Theme</th>\n",
              "      <th>...</th>\n",
              "      <th>New York City</th>\n",
              "      <th>Paris</th>\n",
              "      <th>Perth</th>\n",
              "      <th>San Francisco</th>\n",
              "      <th>Shinjuku</th>\n",
              "      <th>Sydney</th>\n",
              "      <th>Taipei</th>\n",
              "      <th>Toronto</th>\n",
              "      <th>Vancouver</th>\n",
              "      <th>Vienna</th>\n",
              "    </tr>\n",
              "  </thead>\n",
              "  <tbody>\n",
              "    <tr>\n",
              "      <th>0</th>\n",
              "      <td>22.000000</td>\n",
              "      <td>4.000000</td>\n",
              "      <td>0</td>\n",
              "      <td>2.945701</td>\n",
              "      <td>8.924431</td>\n",
              "      <td>2.000000</td>\n",
              "      <td>2.325376</td>\n",
              "      <td>1.924891</td>\n",
              "      <td>9.820254</td>\n",
              "      <td>New_UI</td>\n",
              "      <td>...</td>\n",
              "      <td>0</td>\n",
              "      <td>0</td>\n",
              "      <td>0</td>\n",
              "      <td>0</td>\n",
              "      <td>0</td>\n",
              "      <td>0</td>\n",
              "      <td>0</td>\n",
              "      <td>0</td>\n",
              "      <td>1</td>\n",
              "      <td>0</td>\n",
              "    </tr>\n",
              "    <tr>\n",
              "      <th>1</th>\n",
              "      <td>28.356613</td>\n",
              "      <td>9.000000</td>\n",
              "      <td>0</td>\n",
              "      <td>6.115229</td>\n",
              "      <td>2.363926</td>\n",
              "      <td>6.968752</td>\n",
              "      <td>7.355854</td>\n",
              "      <td>8.561461</td>\n",
              "      <td>2.162229</td>\n",
              "      <td>Old_UI</td>\n",
              "      <td>...</td>\n",
              "      <td>0</td>\n",
              "      <td>0</td>\n",
              "      <td>0</td>\n",
              "      <td>0</td>\n",
              "      <td>0</td>\n",
              "      <td>0</td>\n",
              "      <td>0</td>\n",
              "      <td>0</td>\n",
              "      <td>0</td>\n",
              "      <td>0</td>\n",
              "    </tr>\n",
              "    <tr>\n",
              "      <th>2</th>\n",
              "      <td>26.000000</td>\n",
              "      <td>8.200876</td>\n",
              "      <td>0</td>\n",
              "      <td>1.000000</td>\n",
              "      <td>3.000000</td>\n",
              "      <td>1.766530</td>\n",
              "      <td>3.471802</td>\n",
              "      <td>0.808147</td>\n",
              "      <td>9.055563</td>\n",
              "      <td>New_UI</td>\n",
              "      <td>...</td>\n",
              "      <td>0</td>\n",
              "      <td>0</td>\n",
              "      <td>0</td>\n",
              "      <td>0</td>\n",
              "      <td>0</td>\n",
              "      <td>0</td>\n",
              "      <td>0</td>\n",
              "      <td>0</td>\n",
              "      <td>0</td>\n",
              "      <td>0</td>\n",
              "    </tr>\n",
              "    <tr>\n",
              "      <th>3</th>\n",
              "      <td>28.356613</td>\n",
              "      <td>7.000000</td>\n",
              "      <td>0</td>\n",
              "      <td>2.116475</td>\n",
              "      <td>9.064060</td>\n",
              "      <td>5.387599</td>\n",
              "      <td>4.576805</td>\n",
              "      <td>0.459090</td>\n",
              "      <td>7.343461</td>\n",
              "      <td>New_UI</td>\n",
              "      <td>...</td>\n",
              "      <td>0</td>\n",
              "      <td>0</td>\n",
              "      <td>0</td>\n",
              "      <td>1</td>\n",
              "      <td>0</td>\n",
              "      <td>0</td>\n",
              "      <td>0</td>\n",
              "      <td>0</td>\n",
              "      <td>0</td>\n",
              "      <td>0</td>\n",
              "    </tr>\n",
              "    <tr>\n",
              "      <th>4</th>\n",
              "      <td>29.000000</td>\n",
              "      <td>8.200876</td>\n",
              "      <td>0</td>\n",
              "      <td>7.352878</td>\n",
              "      <td>1.995744</td>\n",
              "      <td>2.676853</td>\n",
              "      <td>7.159554</td>\n",
              "      <td>8.184695</td>\n",
              "      <td>2.000000</td>\n",
              "      <td>Old_UI</td>\n",
              "      <td>...</td>\n",
              "      <td>0</td>\n",
              "      <td>0</td>\n",
              "      <td>0</td>\n",
              "      <td>0</td>\n",
              "      <td>0</td>\n",
              "      <td>0</td>\n",
              "      <td>1</td>\n",
              "      <td>0</td>\n",
              "      <td>0</td>\n",
              "      <td>0</td>\n",
              "    </tr>\n",
              "  </tbody>\n",
              "</table>\n",
              "<p>5 rows × 36 columns</p>\n",
              "</div>\n",
              "      <button class=\"colab-df-convert\" onclick=\"convertToInteractive('df-da0ffcb7-6e2b-4703-9c2c-cb2d34f5adfb')\"\n",
              "              title=\"Convert this dataframe to an interactive table.\"\n",
              "              style=\"display:none;\">\n",
              "        \n",
              "  <svg xmlns=\"http://www.w3.org/2000/svg\" height=\"24px\"viewBox=\"0 0 24 24\"\n",
              "       width=\"24px\">\n",
              "    <path d=\"M0 0h24v24H0V0z\" fill=\"none\"/>\n",
              "    <path d=\"M18.56 5.44l.94 2.06.94-2.06 2.06-.94-2.06-.94-.94-2.06-.94 2.06-2.06.94zm-11 1L8.5 8.5l.94-2.06 2.06-.94-2.06-.94L8.5 2.5l-.94 2.06-2.06.94zm10 10l.94 2.06.94-2.06 2.06-.94-2.06-.94-.94-2.06-.94 2.06-2.06.94z\"/><path d=\"M17.41 7.96l-1.37-1.37c-.4-.4-.92-.59-1.43-.59-.52 0-1.04.2-1.43.59L10.3 9.45l-7.72 7.72c-.78.78-.78 2.05 0 2.83L4 21.41c.39.39.9.59 1.41.59.51 0 1.02-.2 1.41-.59l7.78-7.78 2.81-2.81c.8-.78.8-2.07 0-2.86zM5.41 20L4 18.59l7.72-7.72 1.47 1.35L5.41 20z\"/>\n",
              "  </svg>\n",
              "      </button>\n",
              "      \n",
              "  <style>\n",
              "    .colab-df-container {\n",
              "      display:flex;\n",
              "      flex-wrap:wrap;\n",
              "      gap: 12px;\n",
              "    }\n",
              "\n",
              "    .colab-df-convert {\n",
              "      background-color: #E8F0FE;\n",
              "      border: none;\n",
              "      border-radius: 50%;\n",
              "      cursor: pointer;\n",
              "      display: none;\n",
              "      fill: #1967D2;\n",
              "      height: 32px;\n",
              "      padding: 0 0 0 0;\n",
              "      width: 32px;\n",
              "    }\n",
              "\n",
              "    .colab-df-convert:hover {\n",
              "      background-color: #E2EBFA;\n",
              "      box-shadow: 0px 1px 2px rgba(60, 64, 67, 0.3), 0px 1px 3px 1px rgba(60, 64, 67, 0.15);\n",
              "      fill: #174EA6;\n",
              "    }\n",
              "\n",
              "    [theme=dark] .colab-df-convert {\n",
              "      background-color: #3B4455;\n",
              "      fill: #D2E3FC;\n",
              "    }\n",
              "\n",
              "    [theme=dark] .colab-df-convert:hover {\n",
              "      background-color: #434B5C;\n",
              "      box-shadow: 0px 1px 3px 1px rgba(0, 0, 0, 0.15);\n",
              "      filter: drop-shadow(0px 1px 2px rgba(0, 0, 0, 0.3));\n",
              "      fill: #FFFFFF;\n",
              "    }\n",
              "  </style>\n",
              "\n",
              "      <script>\n",
              "        const buttonEl =\n",
              "          document.querySelector('#df-da0ffcb7-6e2b-4703-9c2c-cb2d34f5adfb button.colab-df-convert');\n",
              "        buttonEl.style.display =\n",
              "          google.colab.kernel.accessAllowed ? 'block' : 'none';\n",
              "\n",
              "        async function convertToInteractive(key) {\n",
              "          const element = document.querySelector('#df-da0ffcb7-6e2b-4703-9c2c-cb2d34f5adfb');\n",
              "          const dataTable =\n",
              "            await google.colab.kernel.invokeFunction('convertToInteractive',\n",
              "                                                     [key], {});\n",
              "          if (!dataTable) return;\n",
              "\n",
              "          const docLinkHtml = 'Like what you see? Visit the ' +\n",
              "            '<a target=\"_blank\" href=https://colab.research.google.com/notebooks/data_table.ipynb>data table notebook</a>'\n",
              "            + ' to learn more about interactive tables.';\n",
              "          element.innerHTML = '';\n",
              "          dataTable['output_type'] = 'display_data';\n",
              "          await google.colab.output.renderOutput(dataTable, element);\n",
              "          const docLink = document.createElement('div');\n",
              "          docLink.innerHTML = docLinkHtml;\n",
              "          element.appendChild(docLink);\n",
              "        }\n",
              "      </script>\n",
              "    </div>\n",
              "  </div>\n",
              "  "
            ]
          },
          "metadata": {},
          "execution_count": 32
        }
      ]
    },
    {
      "cell_type": "code",
      "source": [
        "test.head()"
      ],
      "metadata": {
        "colab": {
          "base_uri": "https://localhost:8080/",
          "height": 334
        },
        "id": "3nuZEDLWn3-I",
        "outputId": "85578cb6-618e-4af6-e909-ad932c179fec"
      },
      "execution_count": 33,
      "outputs": [
        {
          "output_type": "execute_result",
          "data": {
            "text/plain": [
              "    Age  No_of_orders_placed  is_premium_member  Women’s_Clothing  \\\n",
              "0  20.0                  5.0                  0          4.000000   \n",
              "1  25.0                 11.0                  1          4.379066   \n",
              "2  31.0                  1.0                  1          7.946141   \n",
              "3  17.0                  7.0                  0          8.396490   \n",
              "4  39.0                  8.0                  0          2.443467   \n",
              "\n",
              "   Men’s_Clothing  Kid’s_Clothing  Home_&_Living    Beauty  Electronics  \\\n",
              "0        3.043023        6.231789       8.561328  9.893144     1.197478   \n",
              "1        5.819171        6.923614       4.529057  5.105539     4.608664   \n",
              "2        4.000000        9.939050       9.744879  8.874676     2.069313   \n",
              "3        3.636100        4.170301       8.412250  9.389648     3.103196   \n",
              "4        9.143171        6.307817       3.224570  1.892078     7.298316   \n",
              "\n",
              "   Female  ...  New York City  Paris  Perth  San Francisco  Shinjuku  Sydney  \\\n",
              "0       1  ...              0      0      0              0         0       0   \n",
              "1       0  ...              0      0      0              0         0       0   \n",
              "2       1  ...              0      0      1              0         0       0   \n",
              "3       1  ...              0      0      0              0         0       0   \n",
              "4       0  ...              1      0      0              0         0       0   \n",
              "\n",
              "   Taipei  Toronto  Vancouver  Vienna  \n",
              "0       0        0          1       0  \n",
              "1       0        0          0       0  \n",
              "2       0        0          0       0  \n",
              "3       0        0          0       0  \n",
              "4       0        0          0       0  \n",
              "\n",
              "[5 rows x 35 columns]"
            ],
            "text/html": [
              "\n",
              "  <div id=\"df-576bfe48-8048-438a-b607-488a6b69d15f\">\n",
              "    <div class=\"colab-df-container\">\n",
              "      <div>\n",
              "<style scoped>\n",
              "    .dataframe tbody tr th:only-of-type {\n",
              "        vertical-align: middle;\n",
              "    }\n",
              "\n",
              "    .dataframe tbody tr th {\n",
              "        vertical-align: top;\n",
              "    }\n",
              "\n",
              "    .dataframe thead th {\n",
              "        text-align: right;\n",
              "    }\n",
              "</style>\n",
              "<table border=\"1\" class=\"dataframe\">\n",
              "  <thead>\n",
              "    <tr style=\"text-align: right;\">\n",
              "      <th></th>\n",
              "      <th>Age</th>\n",
              "      <th>No_of_orders_placed</th>\n",
              "      <th>is_premium_member</th>\n",
              "      <th>Women’s_Clothing</th>\n",
              "      <th>Men’s_Clothing</th>\n",
              "      <th>Kid’s_Clothing</th>\n",
              "      <th>Home_&amp;_Living</th>\n",
              "      <th>Beauty</th>\n",
              "      <th>Electronics</th>\n",
              "      <th>Female</th>\n",
              "      <th>...</th>\n",
              "      <th>New York City</th>\n",
              "      <th>Paris</th>\n",
              "      <th>Perth</th>\n",
              "      <th>San Francisco</th>\n",
              "      <th>Shinjuku</th>\n",
              "      <th>Sydney</th>\n",
              "      <th>Taipei</th>\n",
              "      <th>Toronto</th>\n",
              "      <th>Vancouver</th>\n",
              "      <th>Vienna</th>\n",
              "    </tr>\n",
              "  </thead>\n",
              "  <tbody>\n",
              "    <tr>\n",
              "      <th>0</th>\n",
              "      <td>20.0</td>\n",
              "      <td>5.0</td>\n",
              "      <td>0</td>\n",
              "      <td>4.000000</td>\n",
              "      <td>3.043023</td>\n",
              "      <td>6.231789</td>\n",
              "      <td>8.561328</td>\n",
              "      <td>9.893144</td>\n",
              "      <td>1.197478</td>\n",
              "      <td>1</td>\n",
              "      <td>...</td>\n",
              "      <td>0</td>\n",
              "      <td>0</td>\n",
              "      <td>0</td>\n",
              "      <td>0</td>\n",
              "      <td>0</td>\n",
              "      <td>0</td>\n",
              "      <td>0</td>\n",
              "      <td>0</td>\n",
              "      <td>1</td>\n",
              "      <td>0</td>\n",
              "    </tr>\n",
              "    <tr>\n",
              "      <th>1</th>\n",
              "      <td>25.0</td>\n",
              "      <td>11.0</td>\n",
              "      <td>1</td>\n",
              "      <td>4.379066</td>\n",
              "      <td>5.819171</td>\n",
              "      <td>6.923614</td>\n",
              "      <td>4.529057</td>\n",
              "      <td>5.105539</td>\n",
              "      <td>4.608664</td>\n",
              "      <td>0</td>\n",
              "      <td>...</td>\n",
              "      <td>0</td>\n",
              "      <td>0</td>\n",
              "      <td>0</td>\n",
              "      <td>0</td>\n",
              "      <td>0</td>\n",
              "      <td>0</td>\n",
              "      <td>0</td>\n",
              "      <td>0</td>\n",
              "      <td>0</td>\n",
              "      <td>0</td>\n",
              "    </tr>\n",
              "    <tr>\n",
              "      <th>2</th>\n",
              "      <td>31.0</td>\n",
              "      <td>1.0</td>\n",
              "      <td>1</td>\n",
              "      <td>7.946141</td>\n",
              "      <td>4.000000</td>\n",
              "      <td>9.939050</td>\n",
              "      <td>9.744879</td>\n",
              "      <td>8.874676</td>\n",
              "      <td>2.069313</td>\n",
              "      <td>1</td>\n",
              "      <td>...</td>\n",
              "      <td>0</td>\n",
              "      <td>0</td>\n",
              "      <td>1</td>\n",
              "      <td>0</td>\n",
              "      <td>0</td>\n",
              "      <td>0</td>\n",
              "      <td>0</td>\n",
              "      <td>0</td>\n",
              "      <td>0</td>\n",
              "      <td>0</td>\n",
              "    </tr>\n",
              "    <tr>\n",
              "      <th>3</th>\n",
              "      <td>17.0</td>\n",
              "      <td>7.0</td>\n",
              "      <td>0</td>\n",
              "      <td>8.396490</td>\n",
              "      <td>3.636100</td>\n",
              "      <td>4.170301</td>\n",
              "      <td>8.412250</td>\n",
              "      <td>9.389648</td>\n",
              "      <td>3.103196</td>\n",
              "      <td>1</td>\n",
              "      <td>...</td>\n",
              "      <td>0</td>\n",
              "      <td>0</td>\n",
              "      <td>0</td>\n",
              "      <td>0</td>\n",
              "      <td>0</td>\n",
              "      <td>0</td>\n",
              "      <td>0</td>\n",
              "      <td>0</td>\n",
              "      <td>0</td>\n",
              "      <td>0</td>\n",
              "    </tr>\n",
              "    <tr>\n",
              "      <th>4</th>\n",
              "      <td>39.0</td>\n",
              "      <td>8.0</td>\n",
              "      <td>0</td>\n",
              "      <td>2.443467</td>\n",
              "      <td>9.143171</td>\n",
              "      <td>6.307817</td>\n",
              "      <td>3.224570</td>\n",
              "      <td>1.892078</td>\n",
              "      <td>7.298316</td>\n",
              "      <td>0</td>\n",
              "      <td>...</td>\n",
              "      <td>1</td>\n",
              "      <td>0</td>\n",
              "      <td>0</td>\n",
              "      <td>0</td>\n",
              "      <td>0</td>\n",
              "      <td>0</td>\n",
              "      <td>0</td>\n",
              "      <td>0</td>\n",
              "      <td>0</td>\n",
              "      <td>0</td>\n",
              "    </tr>\n",
              "  </tbody>\n",
              "</table>\n",
              "<p>5 rows × 35 columns</p>\n",
              "</div>\n",
              "      <button class=\"colab-df-convert\" onclick=\"convertToInteractive('df-576bfe48-8048-438a-b607-488a6b69d15f')\"\n",
              "              title=\"Convert this dataframe to an interactive table.\"\n",
              "              style=\"display:none;\">\n",
              "        \n",
              "  <svg xmlns=\"http://www.w3.org/2000/svg\" height=\"24px\"viewBox=\"0 0 24 24\"\n",
              "       width=\"24px\">\n",
              "    <path d=\"M0 0h24v24H0V0z\" fill=\"none\"/>\n",
              "    <path d=\"M18.56 5.44l.94 2.06.94-2.06 2.06-.94-2.06-.94-.94-2.06-.94 2.06-2.06.94zm-11 1L8.5 8.5l.94-2.06 2.06-.94-2.06-.94L8.5 2.5l-.94 2.06-2.06.94zm10 10l.94 2.06.94-2.06 2.06-.94-2.06-.94-.94-2.06-.94 2.06-2.06.94z\"/><path d=\"M17.41 7.96l-1.37-1.37c-.4-.4-.92-.59-1.43-.59-.52 0-1.04.2-1.43.59L10.3 9.45l-7.72 7.72c-.78.78-.78 2.05 0 2.83L4 21.41c.39.39.9.59 1.41.59.51 0 1.02-.2 1.41-.59l7.78-7.78 2.81-2.81c.8-.78.8-2.07 0-2.86zM5.41 20L4 18.59l7.72-7.72 1.47 1.35L5.41 20z\"/>\n",
              "  </svg>\n",
              "      </button>\n",
              "      \n",
              "  <style>\n",
              "    .colab-df-container {\n",
              "      display:flex;\n",
              "      flex-wrap:wrap;\n",
              "      gap: 12px;\n",
              "    }\n",
              "\n",
              "    .colab-df-convert {\n",
              "      background-color: #E8F0FE;\n",
              "      border: none;\n",
              "      border-radius: 50%;\n",
              "      cursor: pointer;\n",
              "      display: none;\n",
              "      fill: #1967D2;\n",
              "      height: 32px;\n",
              "      padding: 0 0 0 0;\n",
              "      width: 32px;\n",
              "    }\n",
              "\n",
              "    .colab-df-convert:hover {\n",
              "      background-color: #E2EBFA;\n",
              "      box-shadow: 0px 1px 2px rgba(60, 64, 67, 0.3), 0px 1px 3px 1px rgba(60, 64, 67, 0.15);\n",
              "      fill: #174EA6;\n",
              "    }\n",
              "\n",
              "    [theme=dark] .colab-df-convert {\n",
              "      background-color: #3B4455;\n",
              "      fill: #D2E3FC;\n",
              "    }\n",
              "\n",
              "    [theme=dark] .colab-df-convert:hover {\n",
              "      background-color: #434B5C;\n",
              "      box-shadow: 0px 1px 3px 1px rgba(0, 0, 0, 0.15);\n",
              "      filter: drop-shadow(0px 1px 2px rgba(0, 0, 0, 0.3));\n",
              "      fill: #FFFFFF;\n",
              "    }\n",
              "  </style>\n",
              "\n",
              "      <script>\n",
              "        const buttonEl =\n",
              "          document.querySelector('#df-576bfe48-8048-438a-b607-488a6b69d15f button.colab-df-convert');\n",
              "        buttonEl.style.display =\n",
              "          google.colab.kernel.accessAllowed ? 'block' : 'none';\n",
              "\n",
              "        async function convertToInteractive(key) {\n",
              "          const element = document.querySelector('#df-576bfe48-8048-438a-b607-488a6b69d15f');\n",
              "          const dataTable =\n",
              "            await google.colab.kernel.invokeFunction('convertToInteractive',\n",
              "                                                     [key], {});\n",
              "          if (!dataTable) return;\n",
              "\n",
              "          const docLinkHtml = 'Like what you see? Visit the ' +\n",
              "            '<a target=\"_blank\" href=https://colab.research.google.com/notebooks/data_table.ipynb>data table notebook</a>'\n",
              "            + ' to learn more about interactive tables.';\n",
              "          element.innerHTML = '';\n",
              "          dataTable['output_type'] = 'display_data';\n",
              "          await google.colab.output.renderOutput(dataTable, element);\n",
              "          const docLink = document.createElement('div');\n",
              "          docLink.innerHTML = docLinkHtml;\n",
              "          element.appendChild(docLink);\n",
              "        }\n",
              "      </script>\n",
              "    </div>\n",
              "  </div>\n",
              "  "
            ]
          },
          "metadata": {},
          "execution_count": 33
        }
      ]
    },
    {
      "cell_type": "code",
      "source": [
        "X = train.drop(labels=['Preferred_Theme'], axis=1)\n",
        "y = train['Preferred_Theme'].values\n",
        "\n",
        "from sklearn.model_selection import train_test_split\n",
        "X_train, X_cv, y_train, y_cv = train_test_split(X, y, test_size=0.10, random_state=42)"
      ],
      "metadata": {
        "id": "vo-tx5YzoXEL"
      },
      "execution_count": 34,
      "outputs": []
    },
    {
      "cell_type": "code",
      "source": [
        "X_train.shape, y_train.shape, X_cv.shape, y_cv.shape"
      ],
      "metadata": {
        "colab": {
          "base_uri": "https://localhost:8080/"
        },
        "id": "mWzv_bnso6Mp",
        "outputId": "e1110f26-d18b-4c6a-cefc-713c870a03a0"
      },
      "execution_count": 35,
      "outputs": [
        {
          "output_type": "execute_result",
          "data": {
            "text/plain": [
              "((13635, 35), (13635,), (1515, 35), (1515,))"
            ]
          },
          "metadata": {},
          "execution_count": 35
        }
      ]
    },
    {
      "cell_type": "code",
      "source": [
        "# scaling the data\n",
        "from sklearn.preprocessing import StandardScaler, MinMaxScaler\n",
        "sc = StandardScaler()\n",
        "X_train_sc = sc.fit_transform(X_train)\n",
        "X_cv_sc = sc.fit_transform(X_cv)\n",
        "test = sc.fit_transform(test)"
      ],
      "metadata": {
        "id": "4eVLyXO5o-pq"
      },
      "execution_count": 36,
      "outputs": []
    },
    {
      "cell_type": "code",
      "source": [
        "# Logistic regression\n",
        "from sklearn.linear_model import LogisticRegression\n",
        "lr = LogisticRegression() \n",
        "lr.fit(X_train_sc, y_train)"
      ],
      "metadata": {
        "colab": {
          "base_uri": "https://localhost:8080/"
        },
        "id": "6UKTv6gvqSvj",
        "outputId": "b215ab51-acd8-4123-9543-ece3e58015ee"
      },
      "execution_count": 37,
      "outputs": [
        {
          "output_type": "execute_result",
          "data": {
            "text/plain": [
              "LogisticRegression()"
            ]
          },
          "metadata": {},
          "execution_count": 37
        }
      ]
    },
    {
      "cell_type": "code",
      "source": [
        "# predict on validation data\n",
        "lr_pred = lr.predict(X_cv_sc)"
      ],
      "metadata": {
        "id": "-1-FRL-CqunL"
      },
      "execution_count": 38,
      "outputs": []
    },
    {
      "cell_type": "code",
      "source": [
        "lr_pred"
      ],
      "metadata": {
        "colab": {
          "base_uri": "https://localhost:8080/"
        },
        "id": "Xw4TdLJrq3M1",
        "outputId": "14172845-bd1d-40ab-ba2d-93368fb5066c"
      },
      "execution_count": 39,
      "outputs": [
        {
          "output_type": "execute_result",
          "data": {
            "text/plain": [
              "array(['Old_UI', 'New_UI', 'New_UI', ..., 'Old_UI', 'Old_UI', 'Old_UI'],\n",
              "      dtype=object)"
            ]
          },
          "metadata": {},
          "execution_count": 39
        }
      ]
    },
    {
      "cell_type": "code",
      "source": [
        "from sklearn.metrics import accuracy_score, classification_report,confusion_matrix\n",
        "print('Accuracy_score Testing Data: ',round(accuracy_score(y_cv, lr_pred)*100,2))\n",
        "print('\\n','Classification_report Testing data: ','\\n','\\n',classification_report(y_cv, lr_pred))"
      ],
      "metadata": {
        "colab": {
          "base_uri": "https://localhost:8080/"
        },
        "id": "WHfwUSCGrGva",
        "outputId": "0d76a693-ab9c-4a20-c045-1428e65fbd30"
      },
      "execution_count": 41,
      "outputs": [
        {
          "output_type": "stream",
          "name": "stdout",
          "text": [
            "Accuracy_score Testing Data:  70.5\n",
            "\n",
            " Classification_report Testing data:  \n",
            " \n",
            "               precision    recall  f1-score   support\n",
            "\n",
            "      New_UI       0.73      0.69      0.71       794\n",
            "      Old_UI       0.68      0.72      0.70       721\n",
            "\n",
            "    accuracy                           0.70      1515\n",
            "   macro avg       0.71      0.71      0.70      1515\n",
            "weighted avg       0.71      0.70      0.71      1515\n",
            "\n"
          ]
        }
      ]
    },
    {
      "cell_type": "code",
      "source": [
        "lr_pred1 = lr.predict(test)"
      ],
      "metadata": {
        "id": "ePpwsODrrX8U"
      },
      "execution_count": 43,
      "outputs": []
    },
    {
      "cell_type": "code",
      "source": [
        "lr_pred1"
      ],
      "metadata": {
        "colab": {
          "base_uri": "https://localhost:8080/"
        },
        "id": "1zfLTllmrmOY",
        "outputId": "6726cb88-64e7-4457-9b01-ac4e7e25e4c4"
      },
      "execution_count": 44,
      "outputs": [
        {
          "output_type": "execute_result",
          "data": {
            "text/plain": [
              "array(['New_UI', 'Old_UI', 'Old_UI', ..., 'New_UI', 'Old_UI', 'Old_UI'],\n",
              "      dtype=object)"
            ]
          },
          "metadata": {},
          "execution_count": 44
        }
      ]
    },
    {
      "cell_type": "code",
      "source": [
        "# XGBoost\n",
        "import xgboost as xgb"
      ],
      "metadata": {
        "id": "2dqPyZnYy95_"
      },
      "execution_count": 48,
      "outputs": []
    },
    {
      "cell_type": "code",
      "source": [
        "# XG Boost\n",
        "xgb_model = xgb.XGBClassifier(silent=False, \n",
        "                              scale_pos_weight=1,\n",
        "                              learning_rate=0.1,\n",
        "                              colsample_bytree =0.8,\n",
        "                              subsample = 0.8,\n",
        "                              objective='binary:logistic',\n",
        "                              n_estimators=1000, \n",
        "                              max_depth=4, \n",
        "                              reg_alpha=0.01,\n",
        "                              gamma=0,random_state=42)"
      ],
      "metadata": {
        "id": "X4ohlXhczVRe"
      },
      "execution_count": 49,
      "outputs": []
    },
    {
      "cell_type": "code",
      "source": [
        "# Model training\n",
        "xgb_model.fit(X_train_sc, y_train,\n",
        "              verbose=True)"
      ],
      "metadata": {
        "colab": {
          "base_uri": "https://localhost:8080/"
        },
        "id": "djyyhjWRzhZs",
        "outputId": "913a6e4e-4842-4a1b-832f-5e9faa34c014"
      },
      "execution_count": 51,
      "outputs": [
        {
          "output_type": "execute_result",
          "data": {
            "text/plain": [
              "XGBClassifier(colsample_bytree=0.8, max_depth=4, n_estimators=1000,\n",
              "              random_state=42, reg_alpha=0.01, silent=False, subsample=0.8)"
            ]
          },
          "metadata": {},
          "execution_count": 51
        }
      ]
    },
    {
      "cell_type": "code",
      "source": [
        "# predict on validation data\n",
        "RFpredict2 = xgb_model.predict(X_cv_sc)"
      ],
      "metadata": {
        "id": "4iwKqczRzxfp"
      },
      "execution_count": 52,
      "outputs": []
    },
    {
      "cell_type": "code",
      "source": [
        "print(accuracy_score(y_cv,RFpredict2))"
      ],
      "metadata": {
        "colab": {
          "base_uri": "https://localhost:8080/"
        },
        "id": "dD8d5qMm0SLq",
        "outputId": "b943dc4f-fc20-442d-bc90-6ec4e49eee47"
      },
      "execution_count": 53,
      "outputs": [
        {
          "output_type": "stream",
          "name": "stdout",
          "text": [
            "0.7148514851485148\n"
          ]
        }
      ]
    },
    {
      "cell_type": "code",
      "source": [
        "# Random Forest\n",
        "from sklearn.ensemble import RandomForestClassifier\n",
        "model = RandomForestClassifier()\n",
        "model.fit(X_train_sc,y_train)"
      ],
      "metadata": {
        "colab": {
          "base_uri": "https://localhost:8080/"
        },
        "id": "1D7dSqI90pgL",
        "outputId": "dc1dd9cc-2e88-4d03-d05e-5d98b0ba8e64"
      },
      "execution_count": 54,
      "outputs": [
        {
          "output_type": "execute_result",
          "data": {
            "text/plain": [
              "RandomForestClassifier()"
            ]
          },
          "metadata": {},
          "execution_count": 54
        }
      ]
    },
    {
      "cell_type": "code",
      "source": [
        "RFpredict = model.predict(X_cv_sc)"
      ],
      "metadata": {
        "id": "zn1HtGmo0ucT"
      },
      "execution_count": 55,
      "outputs": []
    },
    {
      "cell_type": "code",
      "source": [
        "print(accuracy_score(y_cv,RFpredict))\n",
        "print(confusion_matrix(y_cv,RFpredict))\n",
        "print(classification_report(y_cv,RFpredict))"
      ],
      "metadata": {
        "colab": {
          "base_uri": "https://localhost:8080/"
        },
        "id": "F3Ey8gT500mY",
        "outputId": "ab55ce60-eded-417e-824c-f96d9c81798f"
      },
      "execution_count": 56,
      "outputs": [
        {
          "output_type": "stream",
          "name": "stdout",
          "text": [
            "0.7254125412541255\n",
            "[[597 197]\n",
            " [219 502]]\n",
            "              precision    recall  f1-score   support\n",
            "\n",
            "      New_UI       0.73      0.75      0.74       794\n",
            "      Old_UI       0.72      0.70      0.71       721\n",
            "\n",
            "    accuracy                           0.73      1515\n",
            "   macro avg       0.72      0.72      0.72      1515\n",
            "weighted avg       0.73      0.73      0.73      1515\n",
            "\n"
          ]
        }
      ]
    },
    {
      "cell_type": "code",
      "source": [
        "test1 = pd.read_csv('/content/test.csv')"
      ],
      "metadata": {
        "id": "OxPraieNroFd"
      },
      "execution_count": 45,
      "outputs": []
    },
    {
      "cell_type": "code",
      "source": [
        "# Save the prediction results\n",
        "submission = pd.DataFrame({\n",
        "        \"CustomerID\": test1['CustomerID'],\n",
        "        \"Preferred_Theme\": lr_pred1\n",
        "    })\n",
        "submission.to_csv('Preferred_ThemeSubmission3.csv', index=False)\n",
        "print(submission)"
      ],
      "metadata": {
        "colab": {
          "base_uri": "https://localhost:8080/"
        },
        "id": "X2VG2b56sQO-",
        "outputId": "4227b22e-256b-44b5-a1f2-f319fd232e6d"
      },
      "execution_count": 47,
      "outputs": [
        {
          "output_type": "stream",
          "name": "stdout",
          "text": [
            "       CustomerID Preferred_Theme\n",
            "0     CusID_09654          New_UI\n",
            "1     CusID_09727          Old_UI\n",
            "2     CusID_07391          Old_UI\n",
            "3     CusID_08577          Old_UI\n",
            "4     CusID_08122          Old_UI\n",
            "...           ...             ...\n",
            "1845  CusID_02254          New_UI\n",
            "1846  CusID_00977          Old_UI\n",
            "1847  CusID_00148          New_UI\n",
            "1848  CusID_04876          Old_UI\n",
            "1849  CusID_05091          Old_UI\n",
            "\n",
            "[1850 rows x 2 columns]\n"
          ]
        }
      ]
    }
  ]
}